{
 "cells": [
  {
   "cell_type": "markdown",
   "id": "a66bbf27-9af2-42c4-aca9-bad6a1dba56b",
   "metadata": {},
   "source": [
    "##  Goal: predicting the class of a text.\n",
    "### Task: Fine-tune a BERT model for sequence classification.\n"
   ]
  },
  {
   "cell_type": "markdown",
   "id": "6ddc12a4-4faa-40be-95bf-585b13a4ab27",
   "metadata": {},
   "source": [
    "#### BERT-HuggingFace workflow:\n",
    "#### 1- Divide your data into training and test sets.\n",
    "#### 2- Encode your data into a format BERT will understand.\n",
    "#### 3- Combine your data and labels into dataset objects.\n",
    "#### 4- Load the pre-trained BERT model.\n",
    "#### 5- Fine-tune the model using your training data.\n",
    "#### 6- Predict new labels and evaluate performance on your test data."
   ]
  },
  {
   "cell_type": "code",
   "execution_count": 1,
   "id": "786c30df-8c08-4fb8-8d30-145095c906f1",
   "metadata": {},
   "outputs": [],
   "source": [
    "# !pip3 install transformers\n",
    "# !pip install gdown"
   ]
  },
  {
   "cell_type": "code",
   "execution_count": 2,
   "id": "8eea8338-1885-4ad2-a5c3-3403dd66c7d1",
   "metadata": {},
   "outputs": [],
   "source": [
    "from collections import defaultdict\n",
    "import gdown\n",
    "import gzip\n",
    "import json\n",
    "import random\n",
    "import pickle\n",
    "\n",
    "import pandas as pd\n",
    "import numpy as np\n",
    "from sklearn.metrics import accuracy_score, precision_recall_fscore_support, classification_report\n",
    "from sklearn.feature_extraction.text import TfidfVectorizer\n",
    "from sklearn.linear_model import LogisticRegression\n",
    "import torch\n",
    "from transformers import DistilBertTokenizerFast, DistilBertForSequenceClassification\n",
    "from transformers import Trainer, TrainingArguments\n",
    "\n",
    "%matplotlib inline\n",
    "import matplotlib.pyplot as plt\n",
    "import seaborn as sns\n",
    "from matplotlib import ticker\n",
    "sns.set(style='ticks', font_scale=1.2)"
   ]
  },
  {
   "cell_type": "markdown",
   "id": "e12462f9-2741-477c-8941-95b89c49d37b",
   "metadata": {},
   "source": [
    " ## Goodreads data"
   ]
  },
  {
   "cell_type": "code",
   "execution_count": 3,
   "id": "d0e131bf-52d4-454d-ba86-3a7f8adf8ccc",
   "metadata": {},
   "outputs": [],
   "source": [
    "# dictionary with each genre and the link to the corresponding documents.\n",
    "\n",
    "genre_url_dict = {'poetry':                 'https://drive.google.com/uc?id=1FVD3LxJXRc5GrKm97LehLgVGbRfF9TyO',\n",
    "                  'children':               'https://drive.google.com/uc?id=1908GDMdrhDN7sTaI_FelSHxbwcNM1EzR',\n",
    "                  'comics_graphic':         'https://drive.google.com/uc?id=1V4MLeoEiPQdocCbUHjR_7L9ZmxTufPFe',\n",
    "                  'fantasy_paranormal':     'https://drive.google.com/uc?id=1THnnmE4XSCvMkGOsqapQr2cJI5amKA6X',\n",
    "                  'history_biography':      'https://drive.google.com/uc?id=1lDkTzM6zpYU-HGkVAQgsw0dBzik-Zde9',\n",
    "                  'mystery_thriller_crime': 'https://drive.google.com/uc?id=1ONpyuv0vrtd6iUEp0-zzkKqwpm3njEqi',\n",
    "                  'romance':                'https://drive.google.com/uc?id=1NpFsDQKBj_lrTzSASfyKbmkSykzN88wE',\n",
    "                  'young_adult':            'https://drive.google.com/uc?id=1M5iqCZ8a7rZRtsmY5KQ5rYnP9S0bQJVo'}"
   ]
  },
  {
   "cell_type": "code",
   "execution_count": 4,
   "id": "1dd20822-4113-4243-91ea-7e5d7b5e3b23",
   "metadata": {},
   "outputs": [
    {
     "name": "stderr",
     "output_type": "stream",
     "text": [
      "Downloading...\n",
      "From: https://drive.google.com/uc?id=1FVD3LxJXRc5GrKm97LehLgVGbRfF9TyO\n",
      "To: /home/cgarcia37/Teaching/poetry.json.gz\n",
      "100%|██████████| 49.3M/49.3M [00:01<00:00, 26.1MB/s]\n",
      "Downloading...\n",
      "From: https://drive.google.com/uc?id=1908GDMdrhDN7sTaI_FelSHxbwcNM1EzR\n",
      "To: /home/cgarcia37/Teaching/children.json.gz\n",
      "100%|██████████| 172M/172M [00:05<00:00, 29.1MB/s] \n",
      "Downloading...\n",
      "From: https://drive.google.com/uc?id=1V4MLeoEiPQdocCbUHjR_7L9ZmxTufPFe\n",
      "To: /home/cgarcia37/Teaching/comics_graphic.json.gz\n",
      "100%|██████████| 147M/147M [00:01<00:00, 93.0MB/s] \n",
      "Downloading...\n",
      "From: https://drive.google.com/uc?id=1THnnmE4XSCvMkGOsqapQr2cJI5amKA6X\n",
      "To: /home/cgarcia37/Teaching/fantasy_paranormal.json.gz\n",
      "100%|██████████| 1.26G/1.26G [00:19<00:00, 66.0MB/s]\n",
      "Downloading...\n",
      "From: https://drive.google.com/uc?id=1lDkTzM6zpYU-HGkVAQgsw0dBzik-Zde9\n",
      "To: /home/cgarcia37/Teaching/history_biography.json.gz\n",
      "100%|██████████| 754M/754M [00:07<00:00, 107MB/s]  \n",
      "Downloading...\n",
      "From: https://drive.google.com/uc?id=1ONpyuv0vrtd6iUEp0-zzkKqwpm3njEqi\n",
      "To: /home/cgarcia37/Teaching/mystery_thriller_crime.json.gz\n",
      "100%|██████████| 610M/610M [00:06<00:00, 96.3MB/s] \n",
      "Downloading...\n",
      "From: https://drive.google.com/uc?id=1NpFsDQKBj_lrTzSASfyKbmkSykzN88wE\n",
      "To: /home/cgarcia37/Teaching/romance.json.gz\n",
      "100%|██████████| 1.30G/1.30G [00:23<00:00, 54.4MB/s]\n",
      "Downloading...\n",
      "From: https://drive.google.com/uc?id=1M5iqCZ8a7rZRtsmY5KQ5rYnP9S0bQJVo\n",
      "To: /home/cgarcia37/Teaching/young_adult.json.gz\n",
      "100%|██████████| 899M/899M [00:08<00:00, 111MB/s]  \n"
     ]
    }
   ],
   "source": [
    "for _genre, _url in genre_url_dict.items():\n",
    "    gdown.download(_url, _genre + '.json.gz', quiet=False) "
   ]
  },
  {
   "cell_type": "code",
   "execution_count": 5,
   "id": "a120e2bf-c09c-410a-a2c5-7fdc9e35f20b",
   "metadata": {},
   "outputs": [],
   "source": [
    "def load_reviews(file_name,\n",
    "                 head=None):\n",
    "\n",
    "    reviews = []\n",
    "    count = 0\n",
    "\n",
    "    with gzip.open(file_name) as file:   # gzip to unzip the downloaded JSON files \n",
    "        for line in file:\n",
    "\n",
    "            d = json.loads(line)         # json to load the JSON files once they're unzipped\n",
    "            count += 1\n",
    "\n",
    "            _book_id = d['book_id']\n",
    "\n",
    "            reviews.append(d['review_text'])\n",
    "\n",
    "            # Break if we reach the Nth line\n",
    "            if (head is not None) and (count > head):\n",
    "                break\n",
    "\n",
    "    return reviews"
   ]
  },
  {
   "cell_type": "code",
   "execution_count": 6,
   "id": "51061b84-ad82-4e56-9cc4-2a66b82593f0",
   "metadata": {},
   "outputs": [
    {
     "name": "stdout",
     "output_type": "stream",
     "text": [
      "Loading poetry.json.gz\n",
      "Loading children.json.gz\n",
      "Loading comics_graphic.json.gz\n",
      "Loading fantasy_paranormal.json.gz\n",
      "Loading history_biography.json.gz\n",
      "Loading mystery_thriller_crime.json.gz\n",
      "Loading romance.json.gz\n",
      "Loading young_adult.json.gz\n"
     ]
    }
   ],
   "source": [
    "genres = ['poetry', 'children', 'comics_graphic', 'fantasy_paranormal', 'history_biography', 'mystery_thriller_crime', 'romance', 'young_adult']\n",
    "genre_reviews_dict = {}\n",
    "\n",
    "for _genre in genres:\n",
    "    print('Loading ' + _genre + '.json.gz')\n",
    "    _reviews = load_reviews(_genre + '.json.gz')\n",
    "    genre_reviews_dict[_genre] = random.sample(_reviews, 2000)"
   ]
  },
  {
   "cell_type": "code",
   "execution_count": 106,
   "id": "a426dbf6-6e2c-4c80-a981-90360575d59c",
   "metadata": {},
   "outputs": [
    {
     "name": "stdout",
     "output_type": "stream",
     "text": [
      "===========================\n",
      "poetry\n",
      "===========================\n",
      "Before I get into the meat of this book, can I just say how awesome this cover is? If I were wandering through a bookstore on a \"judging a book by its cover\" binge, this would be the first book I would grab. \n",
      " Moving on, if you know me or follow any of my book blogging habits, you know that I'm a big fan of anything written in verse. Of course, I'm a fan of any kind of general reading material, but there's something about verse writing that hits my emotions harder. I had the pleasure of stumbling across one of R.H. Sin's books at my library, and gobbled it up in one sitting. \n",
      " Whiskey Words and a Shovel III carries the same raw emotion as the previous installment, and is just as easy to binge read as the first. I was also eager to find that this book was a hefty 336 pages long, almost twice as long as the last book! Woohoo! The feelings I have for the verse are hard to put into words, really. It's very raw and real and personal, and it almost reminds me of talking to an old friend about life and love and everything that goes with it. This kind of self-empowering yet kinda sad poetry just resonates with me. \n",
      " This is one of those books that has the ability to transport you with a poem, whether that's a good or a bad thing is hard to say. It can be read as a standalone, and the verse is stunning enough to stick with you (Seriously, I'm thinking about framing \"therapy by the books\"). Definitely give this book a shot if you're looking for a new poetry read. \n",
      " NOTE: I received this copy from NetGalley in exchange for an honest review.\n",
      "\n",
      "===========================\n",
      "children\n",
      "===========================\n",
      "Very interesting children classic, with imaginative scenes and story progression. This book must have been hard to write because of the witty and multi-meaning exchanges. \n",
      " One thing i do not like as much about this book was how the characters do not fit the theme of a children's storybook- they are mean-spirited and nasty at times.\n",
      "\n",
      "===========================\n",
      "comics_graphic\n",
      "===========================\n",
      "Meh. It wasn't \"bad\", but I'm not really a fan of alternate timelines, etc. Or the Hulk.\n",
      "\n",
      "===========================\n",
      "fantasy_paranormal\n",
      "===========================\n",
      "Looking forward to reading the series!\n",
      "\n",
      "===========================\n",
      "history_biography\n",
      "===========================\n",
      "I liked this book on concept and the ending was much better than I thought it could be. \n",
      " However, don't read this on audio with littles around, lot of f-bombs. On the whole, I have gotten to the point where I don't enjoy a book with adultery, and this one had such blatant, vicious, adultery. Violet was a victim of much, but overcame it. Random: I always get a kick out of any book that has Einstein pop up in it. \n",
      " 2015 Popsugar Reading Challenge: A book that scares you. (Everyone's definition of \"scare\" is different! ;))\n",
      "\n",
      "===========================\n",
      "mystery_thriller_crime\n",
      "===========================\n",
      "Vraiment pas le meilleur de la serie. Deja que le tome precedent je troua si que ca s'essoufflait mais la ca a ete pire...\n",
      "\n",
      "===========================\n",
      "romance\n",
      "===========================\n",
      "One of the only books that I like the movie way better.\n",
      "\n",
      "===========================\n",
      "young_adult\n",
      "===========================\n",
      "nice short back story.\n",
      "\n"
     ]
    }
   ],
   "source": [
    "for _genre, _reviews in genre_reviews_dict.items():\n",
    "    print('===========================')\n",
    "    print(_genre)\n",
    "    print('===========================')\n",
    "    print(random.sample(_reviews, 1)[0])\n",
    "    print()"
   ]
  },
  {
   "cell_type": "code",
   "execution_count": 101,
   "id": "c24f8657-5514-4262-b284-a5c6a8e4d988",
   "metadata": {},
   "outputs": [],
   "source": [
    "pickle.dump(genre_reviews_dict, open('genre_reviews_dict.pickle', 'wb'))\n",
    "# genre_reviews_dict = pickle.load(open('genre_reviews_dict.pickle', 'rb'))"
   ]
  },
  {
   "cell_type": "markdown",
   "id": "a95083f5-26df-4b51-8f95-fdec1b4979e3",
   "metadata": {},
   "source": [
    "## Training and Test sets"
   ]
  },
  {
   "cell_type": "code",
   "execution_count": 9,
   "id": "27f237f9-b250-4a3f-a005-a210dee48251",
   "metadata": {},
   "outputs": [],
   "source": [
    "train_texts = []\n",
    "train_labels = []\n",
    "\n",
    "test_texts = []\n",
    "test_labels = []\n",
    "\n",
    "for _genre, _reviews in genre_reviews_dict.items():\n",
    "\n",
    "    _reviews = random.sample(_reviews, 1000) # Use a very small set as an example.\n",
    "  \n",
    "    for _review in _reviews[:800]:\n",
    "        train_texts.append(_review)\n",
    "        train_labels.append(_genre)\n",
    "    for _review in _reviews[800:]:\n",
    "        test_texts.append(_review)\n",
    "        test_labels.append(_genre)"
   ]
  },
  {
   "cell_type": "code",
   "execution_count": 10,
   "id": "aafb9d44-84c1-4cc5-83db-6c5d4764bca3",
   "metadata": {},
   "outputs": [
    {
     "name": "stdout",
     "output_type": "stream",
     "text": [
      "Train set: number of texts  6400 labels 6400\n",
      "Test set: number of texts  1600 labels 1600\n"
     ]
    }
   ],
   "source": [
    "print(\"Train set: number of texts \", len(train_texts), \"labels\", len(train_labels))\n",
    "print(\"Test set: number of texts \", len(test_texts), \"labels\", len(test_labels))"
   ]
  },
  {
   "cell_type": "code",
   "execution_count": 11,
   "id": "e888eb05-c9ec-47a9-bfd9-67b891ee3af8",
   "metadata": {},
   "outputs": [
    {
     "data": {
      "text/plain": [
       "('poetry',\n",
       " '\"As for the poem, not this poem but any \\n poem, do you feel its sting? Do you feel \\n its hope, its entrance to a community? Do \\n you feel its hand in your hand?\" (p. 23) \\n Yes, I do.')"
      ]
     },
     "execution_count": 11,
     "metadata": {},
     "output_type": "execute_result"
    }
   ],
   "source": [
    "train_labels[0], train_texts[0]"
   ]
  },
  {
   "cell_type": "markdown",
   "id": "0b9aa308-dcab-448e-b502-40a838a449b3",
   "metadata": {},
   "source": [
    "## Baseline model"
   ]
  },
  {
   "cell_type": "code",
   "execution_count": 12,
   "id": "05ff33aa-6cb8-4d87-b46e-ada068cd6b27",
   "metadata": {},
   "outputs": [],
   "source": [
    "vectorizer = TfidfVectorizer()\n",
    "X_train = vectorizer.fit_transform(train_texts)\n",
    "X_test = vectorizer.transform(test_texts)"
   ]
  },
  {
   "cell_type": "code",
   "execution_count": 13,
   "id": "b1b4a425-46a1-4d0d-8a1e-88d9fea97014",
   "metadata": {},
   "outputs": [],
   "source": [
    "model = LogisticRegression(max_iter=1000).fit(X_train, train_labels)\n",
    "predictions = model.predict(X_test)"
   ]
  },
  {
   "cell_type": "code",
   "execution_count": 14,
   "id": "b8e2888a-3af9-4266-b233-03caf1a4f157",
   "metadata": {},
   "outputs": [
    {
     "name": "stdout",
     "output_type": "stream",
     "text": [
      "                        precision    recall  f1-score   support\n",
      "\n",
      "              children       0.58      0.59      0.59       200\n",
      "        comics_graphic       0.52      0.58      0.55       200\n",
      "    fantasy_paranormal       0.36      0.31      0.33       200\n",
      "     history_biography       0.51      0.43      0.47       200\n",
      "mystery_thriller_crime       0.50      0.48      0.49       200\n",
      "                poetry       0.62      0.70      0.66       200\n",
      "               romance       0.44      0.49      0.47       200\n",
      "           young_adult       0.41      0.39      0.40       200\n",
      "\n",
      "              accuracy                           0.50      1600\n",
      "             macro avg       0.49      0.50      0.49      1600\n",
      "          weighted avg       0.49      0.50      0.49      1600\n",
      "\n"
     ]
    }
   ],
   "source": [
    "print(classification_report(test_labels, predictions))"
   ]
  },
  {
   "cell_type": "markdown",
   "id": "44201d00-bbbf-47ce-bda8-43186dbacab1",
   "metadata": {},
   "source": [
    "## Texts and labels for BERT\n"
   ]
  },
  {
   "cell_type": "code",
   "execution_count": 15,
   "id": "4431ce86-3a08-410d-a1d4-507f636346c2",
   "metadata": {},
   "outputs": [],
   "source": [
    "# BERT model: DistilBERT to save space (it's a distilled version of the full BERT model)\n",
    "model_name = 'distilbert-base-cased'  \n",
    "\n",
    "# Name of the program management system for NVIDIA GPUs.\n",
    "device_name = 'cuda'       \n",
    "\n",
    "# Maximum number of tokens in any document sent to BERT.\n",
    "max_length = 512                                                        \n",
    "\n",
    "# Directory where we'll save our model.\n",
    "cached_model_directory_name = '/home/cgarcia37/Teaching/results/' "
   ]
  },
  {
   "cell_type": "code",
   "execution_count": 16,
   "id": "bd31a0b0-9672-4434-884d-e406d10ac3d4",
   "metadata": {},
   "outputs": [],
   "source": [
    "# Labels turned into integers.\n",
    "# Texts needs to be truncated/padded (512 tokens).\n",
    "# Tokens separated into \"word pieces\" and matched to their embedding vectors.\n",
    "# Add special tokens: [CLS], [SEP], [PAD], [##]\n",
    "# Less frequent words will be split into two or more pieces. (prefix ##)"
   ]
  },
  {
   "cell_type": "code",
   "execution_count": 17,
   "id": "1f30a7cb-02c8-4bdc-9acc-9ffca453783a",
   "metadata": {},
   "outputs": [],
   "source": [
    "tokenizer = DistilBertTokenizerFast.from_pretrained(model_name)"
   ]
  },
  {
   "cell_type": "markdown",
   "id": "0317f0ec-3d28-483b-a202-0bd01a355b84",
   "metadata": {},
   "source": [
    "### Labels"
   ]
  },
  {
   "cell_type": "code",
   "execution_count": 18,
   "id": "ccebcad0-d167-4232-9a85-18fefbcf4337",
   "metadata": {},
   "outputs": [],
   "source": [
    "unique_labels = set(label for label in train_labels)\n",
    "label2id = {label: id for id, label in enumerate(unique_labels)}\n",
    "id2label = {id: label for label, id in label2id.items()}"
   ]
  },
  {
   "cell_type": "code",
   "execution_count": 19,
   "id": "2a98c52d-666e-461e-ab1e-e98956a57613",
   "metadata": {},
   "outputs": [
    {
     "data": {
      "text/plain": [
       "{'fantasy_paranormal': 0,\n",
       " 'romance': 1,\n",
       " 'mystery_thriller_crime': 2,\n",
       " 'young_adult': 3,\n",
       " 'history_biography': 4,\n",
       " 'comics_graphic': 5,\n",
       " 'children': 6,\n",
       " 'poetry': 7}"
      ]
     },
     "execution_count": 19,
     "metadata": {},
     "output_type": "execute_result"
    }
   ],
   "source": [
    "label2id\n",
    "#label2id.keys()\n",
    "#label2id.values()\n",
    "#label2id['poetry']"
   ]
  },
  {
   "cell_type": "code",
   "execution_count": 20,
   "id": "9989d760-7557-4e21-b69c-fa06c5b51ad6",
   "metadata": {},
   "outputs": [
    {
     "data": {
      "text/plain": [
       "{0: 'fantasy_paranormal',\n",
       " 1: 'romance',\n",
       " 2: 'mystery_thriller_crime',\n",
       " 3: 'young_adult',\n",
       " 4: 'history_biography',\n",
       " 5: 'comics_graphic',\n",
       " 6: 'children',\n",
       " 7: 'poetry'}"
      ]
     },
     "execution_count": 20,
     "metadata": {},
     "output_type": "execute_result"
    }
   ],
   "source": [
    "id2label\n",
    "#id2label.keys()\n",
    "#id2label.values()\n",
    "#id2label[0]"
   ]
  },
  {
   "cell_type": "markdown",
   "id": "d01f4c35-f1ad-4c90-bc26-eaf47a362fe1",
   "metadata": {},
   "source": [
    "### Encode texts and labels"
   ]
  },
  {
   "cell_type": "code",
   "execution_count": 21,
   "id": "b582bdcd-3899-45cc-8013-9f168fdf1ac7",
   "metadata": {},
   "outputs": [],
   "source": [
    "train_encodings = tokenizer(train_texts, truncation=True, padding=True, max_length=max_length)\n",
    "test_encodings  = tokenizer(test_texts, truncation=True, padding=True, max_length=max_length)\n",
    "\n",
    "train_labels_encoded = [label2id[y] for y in train_labels]\n",
    "test_labels_encoded  = [label2id[y] for y in test_labels]"
   ]
  },
  {
   "cell_type": "code",
   "execution_count": 108,
   "id": "c4b351a7-e2e3-41c6-88b4-5525e15f41db",
   "metadata": {},
   "outputs": [
    {
     "data": {
      "text/plain": [
       "'[CLS] Series of mon ##olo ##gues , adapted from mythological or historical figures from ancient Greece , inter ##spersed with diary fragments about love . Not really sure what else to say about this one . Du ##mb ##founded . [SEP] [PAD] [PAD] [PAD] [PAD] [PAD] [PAD] [PAD] [PAD] [PAD] [PAD] [PAD] [PAD] [PAD] [PAD] [PAD] [PAD] [PAD] [PAD] [PAD] [PAD] [PAD] [PAD] [PAD] [PAD] [PAD] [PAD] [PAD] [PAD] [PAD] [PAD] [PAD] [PAD] [PAD] [PAD] [PAD] [PAD] [PAD] [PAD] [PAD] [PAD] [PAD] [PAD] [PAD] [PAD] [PAD] [PAD] [PAD] [PAD] [PAD] [PAD] [PAD] [PAD] [PAD] [PAD] [PAD] [PAD] [PAD] [PAD] [PAD]'"
      ]
     },
     "execution_count": 108,
     "metadata": {},
     "output_type": "execute_result"
    }
   ],
   "source": [
    "# Training Goodreads review example after encoding\n",
    "\n",
    "' '.join(train_encodings[3].tokens[0:100])"
   ]
  },
  {
   "cell_type": "code",
   "execution_count": 109,
   "id": "75d9baf8-69fd-4d59-a7be-69b670d3050d",
   "metadata": {},
   "outputs": [
    {
     "data": {
      "text/plain": [
       "'Series of monologues, adapted from mythological or historical figures from ancient Greece, interspersed with diary fragments about love. \\n Not really sure what else to say about this one. Dumbfounded.'"
      ]
     },
     "execution_count": 109,
     "metadata": {},
     "output_type": "execute_result"
    }
   ],
   "source": [
    "train_texts[3]"
   ]
  },
  {
   "cell_type": "code",
   "execution_count": 87,
   "id": "14d3e201-e9ed-49b5-9995-2ff87380ae03",
   "metadata": {},
   "outputs": [
    {
     "data": {
      "text/plain": [
       "'[CLS] Sa ##ssy is the first word that springs into my mind when I think of Mei ##t ##ner \\' s writing . Her poems are clearly urban . New York City r ##hum ##bas throughout this collection ; there are poems about riding the subway , descriptions of neighborhoods , and an exquisite series of poems about Mei ##t ##ner \\' s experience as a no ##vice inner - city school teacher . She writes with a head - on , take - no - prisoners voice . These are narrative poems , and most employ long lines . Most of the poems are long , and dense on the page , although there are several written in couple ##ts . The first section deals primarily with ad ##ole ##scence . \" All The Pool ##s In Queens \" talks about a summer job as a life ##guard . In the heat people s ##lump and f ##use like glass , edges round ##ing , topography melting for good . The ex - con ##s in for free swim - sex offenders at the local halfway house - pretend to drown . Mei ##t ##ner squeeze ##s everything she can out of large , s ##wo ##oping metaphor ##s . In \" R ##ub ##ber , \" she compares the experience of going to a g ##yn clinic for the morning after pill when a condom broke to the flat tire the speaker had afterward . \" Expedition Record \" compares the list women keep of the men they \\' ve slept with to Ma ##gel ##lan \\' s 152 ##1 crossing of the Pacific . The final lines are a quote from Clark \\' s journal : A woman with a party of men is a token of peace . There are poems about relationships gone wrong . Your hand around the back of my neck in the dark above the covers the way you \\' d hold a beer can , near empty , out on the porch before tossing it . ( Labor Day ) Mei ##t ##ner \\' s poems are packed full of rich details . New York City s ##him ##mers before the reader on every page . The nearby apartment I ended up rent ##ing was across from the Brooklyn House of Det ##ent ##ion , which meant Bai ##l Bond ##sm ##en sandwich ##ed between Hall ##al meat stores , yellow and red b ##ode ##ga a ##wning ##s , curtain ##ed shops that sold sacred oils : ( La ##vender Lake ) The poems about teaching in an inner - city school are humorous and heart ##break ##ing . She \\' s eleven , has a small z ##ir ##con ##ia stud through her nose , can barely write a full sentence or read above third grade level - but she \\' s beautiful , a curse in this neighborhood where most girls are pregnant by fifteen ( Teaching The Sixth grade ) There is a long poem about the subway [SEP]'"
      ]
     },
     "execution_count": 87,
     "metadata": {},
     "output_type": "execute_result"
    }
   ],
   "source": [
    "# # Test Goodreads review example\n",
    "\n",
    "' '.join(test_encodings[0].tokens[0:512])"
   ]
  },
  {
   "cell_type": "code",
   "execution_count": 25,
   "id": "1483942c-c7ab-47ba-9640-4e0d46853520",
   "metadata": {},
   "outputs": [
    {
     "data": {
      "text/plain": [
       "'Sassy is the first word that springs into my mind when I think of Meitner\\'s writing. Her poems are clearly urban. New York City rhumbas throughout this collection; there are poems about riding the subway, descriptions of neighborhoods, and an exquisite series of poems about Meitner\\'s experience as a novice inner-city school teacher. She writes with a head-on, take-no-prisoners voice. These are narrative poems, and most employ long lines. Most of the poems are long, and dense on the page, although there are several written in couplets. \\n The first section deals primarily with adolescence. \"All The Pools In Queens\" talks about a summer job as a lifeguard. \\n In the heat people slump and fuse \\n like glass, edges rounding, topography \\n melting for good. The ex-cons in for free swim- \\n sex offenders at the local halfway house- \\n pretend to drown. \\n Meitner squeezes everything she can out of large, swooping metaphors. In \"Rubber,\" she compares the experience of going to a gyn clinic for the morning after pill when a condom broke to the flat tire the speaker had afterward. \"Expedition Record\" compares the list women keep of the men they\\'ve slept with to Magellan\\'s 1521 crossing of the Pacific. The final lines are a quote from Clark\\'s journal: \\n A woman with a party of men \\n is a token of peace. \\n There are poems about relationships gone wrong. \\n Your hand around the back of \\n my neck in the dark \\n above the covers the way \\n you\\'d hold a beer can, \\n near empty, out on the porch \\n before tossing it. \\n (Labor Day) \\n Meitner\\'s poems are packed full of rich details. New York City shimmers before the reader on every page. \\n The nearby apartment I ended up renting \\n was across from the Brooklyn House \\n of Detention, which meant Bail Bondsmen \\n sandwiched between Hallal meat stores, \\n yellow and red bodega awnings, \\n curtained shops that sold sacred oils: \\n (Lavender Lake) \\n The poems about teaching in an inner-city school are humorous and heartbreaking. \\n She\\'s eleven, has a small zirconia stud through her nose, \\n can barely write a full sentence or read \\n above third grade level-but she\\'s beautiful, \\n a curse in this neighborhood \\n where most girls are pregnant by fifteen \\n (Teaching The Sixth grade) \\n There is a long poem about the subway titled \"Metrocard,\" broken into 3 parts. \\n Mornings my F train explodes \\n into the sun from below, fire rips through the car \\n like a searchlight-a welder\\'s torch \\n slicing our wrecked bullet open, people \\n spilling out. I stand \\n by the window , rising \\n in the warmth above Red Hook, \\n unsticking my eyes. \\n (III. Class) \\n My favorite title, \"The Hour Before Happy,\" is in the section called work. It opens with lines that apply to any job, that made me sigh and want to head to the nearest bar stool. \\n What drove me to the bar was darkness- \\n asylum from the all-day fluorescence \\n that rendered my trailer classroom \\n lit to its harshest reality: \\n Meitner\\'s work is infused with humor; her poems are a joy to read. They are full of playful phrases, double entendre, and exciting metaphors. This collection is a stellar example of how to tell by showing.'"
      ]
     },
     "execution_count": 25,
     "metadata": {},
     "output_type": "execute_result"
    }
   ],
   "source": [
    "test_texts[0]"
   ]
  },
  {
   "cell_type": "code",
   "execution_count": 26,
   "id": "032508d5-423f-458e-80af-ed9ad76c224d",
   "metadata": {},
   "outputs": [
    {
     "data": {
      "text/plain": [
       "{0, 1, 2, 3, 4, 5, 6, 7}"
      ]
     },
     "execution_count": 26,
     "metadata": {},
     "output_type": "execute_result"
    }
   ],
   "source": [
    "# training labels\n",
    "\n",
    "set(train_labels_encoded)"
   ]
  },
  {
   "cell_type": "code",
   "execution_count": 27,
   "id": "5025741c-e112-4bf1-8a13-520ba0cb6ae7",
   "metadata": {},
   "outputs": [
    {
     "data": {
      "text/plain": [
       "{0, 1, 2, 3, 4, 5, 6, 7}"
      ]
     },
     "execution_count": 27,
     "metadata": {},
     "output_type": "execute_result"
    }
   ],
   "source": [
    "# test labels\n",
    "\n",
    "set(test_labels_encoded)"
   ]
  },
  {
   "cell_type": "markdown",
   "id": "0fecd1e7-d826-4510-b61a-edcc2cd94235",
   "metadata": {},
   "source": [
    "## Torch dataset"
   ]
  },
  {
   "cell_type": "code",
   "execution_count": 28,
   "id": "b66c1b12-e6f8-4be9-9d0f-a808652625ea",
   "metadata": {},
   "outputs": [
    {
     "data": {
      "text/plain": [
       "Encoding(num_tokens=512, attributes=[ids, type_ids, tokens, offsets, attention_mask, special_tokens_mask, overflowing])"
      ]
     },
     "execution_count": 28,
     "metadata": {},
     "output_type": "execute_result"
    }
   ],
   "source": [
    "#print(train_encodings[0].tokens, train_encodings[0].ids, train_encodings[0].attention_mask)\n",
    "train_encodings[0]"
   ]
  },
  {
   "cell_type": "code",
   "execution_count": 29,
   "id": "f140b3da-3d99-48d7-9074-a6884a73508b",
   "metadata": {},
   "outputs": [],
   "source": [
    "class MyDataset(torch.utils.data.Dataset):\n",
    "    def __init__(self, encodings, labels):\n",
    "        self.encodings = encodings\n",
    "        self.labels = labels\n",
    "\n",
    "    def __getitem__(self, idx):\n",
    "        item = {key: torch.tensor(val[idx]) for key, val in self.encodings.items()}\n",
    "        item['labels'] = torch.tensor(self.labels[idx])\n",
    "        return item\n",
    "\n",
    "    def __len__(self):\n",
    "        return len(self.labels)"
   ]
  },
  {
   "cell_type": "code",
   "execution_count": 30,
   "id": "7d294f5f-37cf-407b-a9e1-2a800d641a82",
   "metadata": {},
   "outputs": [],
   "source": [
    "train_dataset = MyDataset(train_encodings, train_labels_encoded)\n",
    "test_dataset = MyDataset(test_encodings, test_labels_encoded)"
   ]
  },
  {
   "cell_type": "code",
   "execution_count": 31,
   "id": "2cf08585-65b2-40cd-8074-178869c3b986",
   "metadata": {},
   "outputs": [
    {
     "data": {
      "text/plain": [
       "'[CLS] \" As for the poem , not this poem but any poem , do you feel its sting ? Do you feel its hope , its entrance to a community ? Do you feel its hand in your hand ? \" ( p . 23 ) Yes , I do . [SEP] [PAD] [PAD] [PAD] [PAD] [PAD] [PAD] [PAD] [PAD] [PAD] [PAD] [PAD] [PAD] [PAD] [PAD] [PAD] [PAD] [PAD] [PAD] [PAD] [PAD] [PAD] [PAD] [PAD] [PAD] [PAD] [PAD] [PAD] [PAD] [PAD] [PAD] [PAD] [PAD] [PAD] [PAD] [PAD] [PAD] [PAD] [PAD] [PAD] [PAD] [PAD] [PAD] [PAD] [PAD] [PAD] [PAD] [PAD]'"
      ]
     },
     "execution_count": 31,
     "metadata": {},
     "output_type": "execute_result"
    }
   ],
   "source": [
    "# Training example in the Torch dataset \n",
    "\n",
    "' '.join(train_dataset.encodings[0].tokens[0:100])"
   ]
  },
  {
   "cell_type": "markdown",
   "id": "d31cc1f7-193e-4e69-8b42-1a416c8453ec",
   "metadata": {},
   "source": [
    "## Load the pretrained-model"
   ]
  },
  {
   "cell_type": "code",
   "execution_count": 32,
   "id": "460f661d-71fa-418d-83bb-e456951317df",
   "metadata": {},
   "outputs": [
    {
     "name": "stderr",
     "output_type": "stream",
     "text": [
      "Some weights of the model checkpoint at distilbert-base-cased were not used when initializing DistilBertForSequenceClassification: ['vocab_projector.bias', 'vocab_layer_norm.bias', 'vocab_layer_norm.weight', 'vocab_projector.weight', 'vocab_transform.weight', 'vocab_transform.bias']\n",
      "- This IS expected if you are initializing DistilBertForSequenceClassification from the checkpoint of a model trained on another task or with another architecture (e.g. initializing a BertForSequenceClassification model from a BertForPreTraining model).\n",
      "- This IS NOT expected if you are initializing DistilBertForSequenceClassification from the checkpoint of a model that you expect to be exactly identical (initializing a BertForSequenceClassification model from a BertForSequenceClassification model).\n",
      "Some weights of DistilBertForSequenceClassification were not initialized from the model checkpoint at distilbert-base-cased and are newly initialized: ['classifier.bias', 'pre_classifier.bias', 'pre_classifier.weight', 'classifier.weight']\n",
      "You should probably TRAIN this model on a down-stream task to be able to use it for predictions and inference.\n"
     ]
    }
   ],
   "source": [
    "# The model_name needs to match the name used for the tokenizer above.\n",
    "\n",
    "model = DistilBertForSequenceClassification.from_pretrained(model_name, num_labels=len(id2label)).to(device_name)"
   ]
  },
  {
   "cell_type": "markdown",
   "id": "8a0efac5-dfe5-4b83-930a-72670effeeeb",
   "metadata": {},
   "source": [
    "## BERT fine-tuning parameters --> HuggingFace"
   ]
  },
  {
   "cell_type": "code",
   "execution_count": 33,
   "id": "2f1dfe3b-6772-4d7c-ae0a-b65d51ab9f21",
   "metadata": {},
   "outputs": [],
   "source": [
    "training_args = TrainingArguments(\n",
    "    num_train_epochs=12,              # total number of training epochs\n",
    "    per_device_train_batch_size=16,  # batch size per device during training\n",
    "    per_device_eval_batch_size=20,   # batch size for evaluation\n",
    "    learning_rate=5e-5,              # initial learning rate for Adam optimizer\n",
    "    warmup_steps=100,                # number of warmup steps for learning rate scheduler (set lower because of small dataset size)\n",
    "    weight_decay=0.01,               # strength of weight decay\n",
    "    output_dir='./results',          # output directory\n",
    "    logging_dir='./logs',            # directory for storing logs\n",
    "    logging_steps=100,               # number of steps to output logging (set lower because of small dataset size)\n",
    "    evaluation_strategy='steps',     # evaluate during fine-tuning so that we can see progress\n",
    ")"
   ]
  },
  {
   "cell_type": "code",
   "execution_count": 34,
   "id": "0d5e0631-91a2-4037-98e8-68117109f12b",
   "metadata": {},
   "outputs": [],
   "source": [
    "def compute_metrics(pred):\n",
    "    labels = pred.label_ids\n",
    "    preds = pred.predictions.argmax(-1)\n",
    "    acc = accuracy_score(labels, preds)\n",
    "    return {\n",
    "        'accuracy': acc,\n",
    "  }"
   ]
  },
  {
   "cell_type": "code",
   "execution_count": 35,
   "id": "c9591913-1b75-43c6-ae66-65b9bc96f97a",
   "metadata": {},
   "outputs": [],
   "source": [
    "trainer = Trainer(\n",
    "    model=model,                         # the instantiated 🤗 Transformers model to be trained\n",
    "    args=training_args,                  # training arguments, defined above\n",
    "    train_dataset=train_dataset,         # training dataset\n",
    "    eval_dataset=test_dataset,           # evaluation dataset (usually a validation set; here we just send our test set)\n",
    "    compute_metrics=compute_metrics      # our custom evaluation function \n",
    ")"
   ]
  },
  {
   "cell_type": "code",
   "execution_count": 36,
   "id": "d788dd2a-3a50-40a3-9a6e-fbd3d330e962",
   "metadata": {},
   "outputs": [
    {
     "name": "stderr",
     "output_type": "stream",
     "text": [
      "/home/cgarcia37/anaconda3/lib/python3.8/site-packages/transformers/optimization.py:306: FutureWarning: This implementation of AdamW is deprecated and will be removed in a future version. Use thePyTorch implementation torch.optim.AdamW instead, or set `no_deprecation_warning=True` to disable this warning\n",
      "  warnings.warn(\n",
      "/home/cgarcia37/anaconda3/lib/python3.8/site-packages/torch/nn/parallel/data_parallel.py:30: UserWarning: \n",
      "    There is an imbalance between your GPUs. You may want to exclude GPU 1 which\n",
      "    has less than 75% of the memory or cores of GPU 0. You can do so by setting\n",
      "    the device_ids argument to DataParallel, or by setting the CUDA_VISIBLE_DEVICES\n",
      "    environment variable.\n",
      "  warnings.warn(imbalance_warn.format(device_ids[min_pos], device_ids[max_pos]))\n",
      "***** Running training *****\n",
      "  Num examples = 6400\n",
      "  Num Epochs = 12\n",
      "  Instantaneous batch size per device = 16\n",
      "  Total train batch size (w. parallel, distributed & accumulation) = 64\n",
      "  Gradient Accumulation steps = 1\n",
      "  Total optimization steps = 1200\n",
      "/home/cgarcia37/anaconda3/lib/python3.8/site-packages/torch/nn/parallel/_functions.py:68: UserWarning: Was asked to gather along dimension 0, but all input tensors were scalars; will instead unsqueeze and return a vector.\n",
      "  warnings.warn('Was asked to gather along dimension 0, but all '\n"
     ]
    },
    {
     "data": {
      "text/html": [
       "\n",
       "    <div>\n",
       "      \n",
       "      <progress value='1200' max='1200' style='width:300px; height:20px; vertical-align: middle;'></progress>\n",
       "      [1200/1200 08:06, Epoch 12/12]\n",
       "    </div>\n",
       "    <table border=\"1\" class=\"dataframe\">\n",
       "  <thead>\n",
       " <tr style=\"text-align: left;\">\n",
       "      <th>Step</th>\n",
       "      <th>Training Loss</th>\n",
       "      <th>Validation Loss</th>\n",
       "      <th>Accuracy</th>\n",
       "    </tr>\n",
       "  </thead>\n",
       "  <tbody>\n",
       "    <tr>\n",
       "      <td>100</td>\n",
       "      <td>1.879800</td>\n",
       "      <td>1.445713</td>\n",
       "      <td>0.491875</td>\n",
       "    </tr>\n",
       "    <tr>\n",
       "      <td>200</td>\n",
       "      <td>1.315900</td>\n",
       "      <td>1.323290</td>\n",
       "      <td>0.522500</td>\n",
       "    </tr>\n",
       "    <tr>\n",
       "      <td>300</td>\n",
       "      <td>0.962400</td>\n",
       "      <td>1.359695</td>\n",
       "      <td>0.538125</td>\n",
       "    </tr>\n",
       "    <tr>\n",
       "      <td>400</td>\n",
       "      <td>0.667300</td>\n",
       "      <td>1.453699</td>\n",
       "      <td>0.538125</td>\n",
       "    </tr>\n",
       "    <tr>\n",
       "      <td>500</td>\n",
       "      <td>0.440600</td>\n",
       "      <td>1.585913</td>\n",
       "      <td>0.533125</td>\n",
       "    </tr>\n",
       "    <tr>\n",
       "      <td>600</td>\n",
       "      <td>0.280600</td>\n",
       "      <td>1.760623</td>\n",
       "      <td>0.530625</td>\n",
       "    </tr>\n",
       "    <tr>\n",
       "      <td>700</td>\n",
       "      <td>0.175300</td>\n",
       "      <td>1.884111</td>\n",
       "      <td>0.525000</td>\n",
       "    </tr>\n",
       "    <tr>\n",
       "      <td>800</td>\n",
       "      <td>0.109600</td>\n",
       "      <td>2.065855</td>\n",
       "      <td>0.540000</td>\n",
       "    </tr>\n",
       "    <tr>\n",
       "      <td>900</td>\n",
       "      <td>0.076900</td>\n",
       "      <td>2.146745</td>\n",
       "      <td>0.529375</td>\n",
       "    </tr>\n",
       "    <tr>\n",
       "      <td>1000</td>\n",
       "      <td>0.049200</td>\n",
       "      <td>2.299671</td>\n",
       "      <td>0.535625</td>\n",
       "    </tr>\n",
       "    <tr>\n",
       "      <td>1100</td>\n",
       "      <td>0.037500</td>\n",
       "      <td>2.344515</td>\n",
       "      <td>0.536250</td>\n",
       "    </tr>\n",
       "    <tr>\n",
       "      <td>1200</td>\n",
       "      <td>0.029500</td>\n",
       "      <td>2.366802</td>\n",
       "      <td>0.533750</td>\n",
       "    </tr>\n",
       "  </tbody>\n",
       "</table><p>"
      ],
      "text/plain": [
       "<IPython.core.display.HTML object>"
      ]
     },
     "metadata": {},
     "output_type": "display_data"
    },
    {
     "name": "stderr",
     "output_type": "stream",
     "text": [
      "***** Running Evaluation *****\n",
      "  Num examples = 1600\n",
      "  Batch size = 80\n",
      "/home/cgarcia37/anaconda3/lib/python3.8/site-packages/torch/nn/parallel/_functions.py:68: UserWarning: Was asked to gather along dimension 0, but all input tensors were scalars; will instead unsqueeze and return a vector.\n",
      "  warnings.warn('Was asked to gather along dimension 0, but all '\n",
      "/home/cgarcia37/anaconda3/lib/python3.8/site-packages/torch/nn/parallel/data_parallel.py:30: UserWarning: \n",
      "    There is an imbalance between your GPUs. You may want to exclude GPU 1 which\n",
      "    has less than 75% of the memory or cores of GPU 0. You can do so by setting\n",
      "    the device_ids argument to DataParallel, or by setting the CUDA_VISIBLE_DEVICES\n",
      "    environment variable.\n",
      "  warnings.warn(imbalance_warn.format(device_ids[min_pos], device_ids[max_pos]))\n",
      "***** Running Evaluation *****\n",
      "  Num examples = 1600\n",
      "  Batch size = 80\n",
      "/home/cgarcia37/anaconda3/lib/python3.8/site-packages/torch/nn/parallel/_functions.py:68: UserWarning: Was asked to gather along dimension 0, but all input tensors were scalars; will instead unsqueeze and return a vector.\n",
      "  warnings.warn('Was asked to gather along dimension 0, but all '\n",
      "/home/cgarcia37/anaconda3/lib/python3.8/site-packages/torch/nn/parallel/data_parallel.py:30: UserWarning: \n",
      "    There is an imbalance between your GPUs. You may want to exclude GPU 1 which\n",
      "    has less than 75% of the memory or cores of GPU 0. You can do so by setting\n",
      "    the device_ids argument to DataParallel, or by setting the CUDA_VISIBLE_DEVICES\n",
      "    environment variable.\n",
      "  warnings.warn(imbalance_warn.format(device_ids[min_pos], device_ids[max_pos]))\n",
      "***** Running Evaluation *****\n",
      "  Num examples = 1600\n",
      "  Batch size = 80\n",
      "/home/cgarcia37/anaconda3/lib/python3.8/site-packages/torch/nn/parallel/_functions.py:68: UserWarning: Was asked to gather along dimension 0, but all input tensors were scalars; will instead unsqueeze and return a vector.\n",
      "  warnings.warn('Was asked to gather along dimension 0, but all '\n",
      "/home/cgarcia37/anaconda3/lib/python3.8/site-packages/torch/nn/parallel/data_parallel.py:30: UserWarning: \n",
      "    There is an imbalance between your GPUs. You may want to exclude GPU 1 which\n",
      "    has less than 75% of the memory or cores of GPU 0. You can do so by setting\n",
      "    the device_ids argument to DataParallel, or by setting the CUDA_VISIBLE_DEVICES\n",
      "    environment variable.\n",
      "  warnings.warn(imbalance_warn.format(device_ids[min_pos], device_ids[max_pos]))\n",
      "***** Running Evaluation *****\n",
      "  Num examples = 1600\n",
      "  Batch size = 80\n",
      "/home/cgarcia37/anaconda3/lib/python3.8/site-packages/torch/nn/parallel/_functions.py:68: UserWarning: Was asked to gather along dimension 0, but all input tensors were scalars; will instead unsqueeze and return a vector.\n",
      "  warnings.warn('Was asked to gather along dimension 0, but all '\n",
      "/home/cgarcia37/anaconda3/lib/python3.8/site-packages/torch/nn/parallel/data_parallel.py:30: UserWarning: \n",
      "    There is an imbalance between your GPUs. You may want to exclude GPU 1 which\n",
      "    has less than 75% of the memory or cores of GPU 0. You can do so by setting\n",
      "    the device_ids argument to DataParallel, or by setting the CUDA_VISIBLE_DEVICES\n",
      "    environment variable.\n",
      "  warnings.warn(imbalance_warn.format(device_ids[min_pos], device_ids[max_pos]))\n",
      "***** Running Evaluation *****\n",
      "  Num examples = 1600\n",
      "  Batch size = 80\n",
      "Saving model checkpoint to ./results/checkpoint-500\n",
      "Configuration saved in ./results/checkpoint-500/config.json\n",
      "Model weights saved in ./results/checkpoint-500/pytorch_model.bin\n",
      "/home/cgarcia37/anaconda3/lib/python3.8/site-packages/torch/nn/parallel/_functions.py:68: UserWarning: Was asked to gather along dimension 0, but all input tensors were scalars; will instead unsqueeze and return a vector.\n",
      "  warnings.warn('Was asked to gather along dimension 0, but all '\n",
      "/home/cgarcia37/anaconda3/lib/python3.8/site-packages/torch/nn/parallel/data_parallel.py:30: UserWarning: \n",
      "    There is an imbalance between your GPUs. You may want to exclude GPU 1 which\n",
      "    has less than 75% of the memory or cores of GPU 0. You can do so by setting\n",
      "    the device_ids argument to DataParallel, or by setting the CUDA_VISIBLE_DEVICES\n",
      "    environment variable.\n",
      "  warnings.warn(imbalance_warn.format(device_ids[min_pos], device_ids[max_pos]))\n",
      "***** Running Evaluation *****\n",
      "  Num examples = 1600\n",
      "  Batch size = 80\n",
      "/home/cgarcia37/anaconda3/lib/python3.8/site-packages/torch/nn/parallel/_functions.py:68: UserWarning: Was asked to gather along dimension 0, but all input tensors were scalars; will instead unsqueeze and return a vector.\n",
      "  warnings.warn('Was asked to gather along dimension 0, but all '\n",
      "/home/cgarcia37/anaconda3/lib/python3.8/site-packages/torch/nn/parallel/data_parallel.py:30: UserWarning: \n",
      "    There is an imbalance between your GPUs. You may want to exclude GPU 1 which\n",
      "    has less than 75% of the memory or cores of GPU 0. You can do so by setting\n",
      "    the device_ids argument to DataParallel, or by setting the CUDA_VISIBLE_DEVICES\n",
      "    environment variable.\n",
      "  warnings.warn(imbalance_warn.format(device_ids[min_pos], device_ids[max_pos]))\n",
      "***** Running Evaluation *****\n",
      "  Num examples = 1600\n",
      "  Batch size = 80\n",
      "/home/cgarcia37/anaconda3/lib/python3.8/site-packages/torch/nn/parallel/_functions.py:68: UserWarning: Was asked to gather along dimension 0, but all input tensors were scalars; will instead unsqueeze and return a vector.\n",
      "  warnings.warn('Was asked to gather along dimension 0, but all '\n",
      "/home/cgarcia37/anaconda3/lib/python3.8/site-packages/torch/nn/parallel/data_parallel.py:30: UserWarning: \n",
      "    There is an imbalance between your GPUs. You may want to exclude GPU 1 which\n",
      "    has less than 75% of the memory or cores of GPU 0. You can do so by setting\n",
      "    the device_ids argument to DataParallel, or by setting the CUDA_VISIBLE_DEVICES\n",
      "    environment variable.\n",
      "  warnings.warn(imbalance_warn.format(device_ids[min_pos], device_ids[max_pos]))\n",
      "***** Running Evaluation *****\n",
      "  Num examples = 1600\n",
      "  Batch size = 80\n",
      "/home/cgarcia37/anaconda3/lib/python3.8/site-packages/torch/nn/parallel/_functions.py:68: UserWarning: Was asked to gather along dimension 0, but all input tensors were scalars; will instead unsqueeze and return a vector.\n",
      "  warnings.warn('Was asked to gather along dimension 0, but all '\n",
      "/home/cgarcia37/anaconda3/lib/python3.8/site-packages/torch/nn/parallel/data_parallel.py:30: UserWarning: \n",
      "    There is an imbalance between your GPUs. You may want to exclude GPU 1 which\n",
      "    has less than 75% of the memory or cores of GPU 0. You can do so by setting\n",
      "    the device_ids argument to DataParallel, or by setting the CUDA_VISIBLE_DEVICES\n",
      "    environment variable.\n",
      "  warnings.warn(imbalance_warn.format(device_ids[min_pos], device_ids[max_pos]))\n",
      "***** Running Evaluation *****\n",
      "  Num examples = 1600\n",
      "  Batch size = 80\n",
      "/home/cgarcia37/anaconda3/lib/python3.8/site-packages/torch/nn/parallel/_functions.py:68: UserWarning: Was asked to gather along dimension 0, but all input tensors were scalars; will instead unsqueeze and return a vector.\n",
      "  warnings.warn('Was asked to gather along dimension 0, but all '\n",
      "/home/cgarcia37/anaconda3/lib/python3.8/site-packages/torch/nn/parallel/data_parallel.py:30: UserWarning: \n",
      "    There is an imbalance between your GPUs. You may want to exclude GPU 1 which\n",
      "    has less than 75% of the memory or cores of GPU 0. You can do so by setting\n",
      "    the device_ids argument to DataParallel, or by setting the CUDA_VISIBLE_DEVICES\n",
      "    environment variable.\n",
      "  warnings.warn(imbalance_warn.format(device_ids[min_pos], device_ids[max_pos]))\n",
      "***** Running Evaluation *****\n",
      "  Num examples = 1600\n",
      "  Batch size = 80\n",
      "Saving model checkpoint to ./results/checkpoint-1000\n",
      "Configuration saved in ./results/checkpoint-1000/config.json\n",
      "Model weights saved in ./results/checkpoint-1000/pytorch_model.bin\n",
      "/home/cgarcia37/anaconda3/lib/python3.8/site-packages/torch/nn/parallel/_functions.py:68: UserWarning: Was asked to gather along dimension 0, but all input tensors were scalars; will instead unsqueeze and return a vector.\n",
      "  warnings.warn('Was asked to gather along dimension 0, but all '\n",
      "/home/cgarcia37/anaconda3/lib/python3.8/site-packages/torch/nn/parallel/data_parallel.py:30: UserWarning: \n",
      "    There is an imbalance between your GPUs. You may want to exclude GPU 1 which\n",
      "    has less than 75% of the memory or cores of GPU 0. You can do so by setting\n",
      "    the device_ids argument to DataParallel, or by setting the CUDA_VISIBLE_DEVICES\n",
      "    environment variable.\n",
      "  warnings.warn(imbalance_warn.format(device_ids[min_pos], device_ids[max_pos]))\n",
      "***** Running Evaluation *****\n",
      "  Num examples = 1600\n",
      "  Batch size = 80\n",
      "/home/cgarcia37/anaconda3/lib/python3.8/site-packages/torch/nn/parallel/_functions.py:68: UserWarning: Was asked to gather along dimension 0, but all input tensors were scalars; will instead unsqueeze and return a vector.\n",
      "  warnings.warn('Was asked to gather along dimension 0, but all '\n",
      "/home/cgarcia37/anaconda3/lib/python3.8/site-packages/torch/nn/parallel/data_parallel.py:30: UserWarning: \n",
      "    There is an imbalance between your GPUs. You may want to exclude GPU 1 which\n",
      "    has less than 75% of the memory or cores of GPU 0. You can do so by setting\n",
      "    the device_ids argument to DataParallel, or by setting the CUDA_VISIBLE_DEVICES\n",
      "    environment variable.\n",
      "  warnings.warn(imbalance_warn.format(device_ids[min_pos], device_ids[max_pos]))\n",
      "***** Running Evaluation *****\n",
      "  Num examples = 1600\n",
      "  Batch size = 80\n",
      "\n",
      "\n",
      "Training completed. Do not forget to share your model on huggingface.co/models =)\n",
      "\n",
      "\n"
     ]
    },
    {
     "data": {
      "text/plain": [
       "TrainOutput(global_step=1200, training_loss=0.5020462010304133, metrics={'train_runtime': 494.9089, 'train_samples_per_second': 155.18, 'train_steps_per_second': 2.425, 'total_flos': 1.01745847959552e+16, 'train_loss': 0.5020462010304133, 'epoch': 12.0})"
      ]
     },
     "execution_count": 36,
     "metadata": {},
     "output_type": "execute_result"
    }
   ],
   "source": [
    "trainer.train()"
   ]
  },
  {
   "cell_type": "code",
   "execution_count": 37,
   "id": "9cd3069c-2998-4ff1-ab8f-fa5c35e0e712",
   "metadata": {},
   "outputs": [
    {
     "name": "stderr",
     "output_type": "stream",
     "text": [
      "Saving model checkpoint to /home/cgarcia37/Teaching/results/\n",
      "Configuration saved in /home/cgarcia37/Teaching/results/config.json\n",
      "Model weights saved in /home/cgarcia37/Teaching/results/pytorch_model.bin\n"
     ]
    }
   ],
   "source": [
    "trainer.save_model(cached_model_directory_name)"
   ]
  },
  {
   "cell_type": "code",
   "execution_count": 38,
   "id": "f93e6ae8-612f-45bc-80ae-341fbb1ca732",
   "metadata": {},
   "outputs": [],
   "source": [
    "# To evaluate you can use your saved model\n",
    "\n",
    "#trainer = DistilBertForSequenceClassification.from_pretrained(cached_model_directory_name)"
   ]
  },
  {
   "cell_type": "markdown",
   "id": "72e3f371-7007-4605-8e2d-f5314f943305",
   "metadata": {},
   "source": [
    "## Evaluate"
   ]
  },
  {
   "cell_type": "code",
   "execution_count": 39,
   "id": "542a53e9-9e93-47c2-9434-70e60f2017ad",
   "metadata": {},
   "outputs": [
    {
     "name": "stderr",
     "output_type": "stream",
     "text": [
      "/home/cgarcia37/anaconda3/lib/python3.8/site-packages/torch/nn/parallel/data_parallel.py:30: UserWarning: \n",
      "    There is an imbalance between your GPUs. You may want to exclude GPU 1 which\n",
      "    has less than 75% of the memory or cores of GPU 0. You can do so by setting\n",
      "    the device_ids argument to DataParallel, or by setting the CUDA_VISIBLE_DEVICES\n",
      "    environment variable.\n",
      "  warnings.warn(imbalance_warn.format(device_ids[min_pos], device_ids[max_pos]))\n",
      "***** Running Evaluation *****\n",
      "  Num examples = 1600\n",
      "  Batch size = 80\n",
      "/home/cgarcia37/anaconda3/lib/python3.8/site-packages/torch/nn/parallel/_functions.py:68: UserWarning: Was asked to gather along dimension 0, but all input tensors were scalars; will instead unsqueeze and return a vector.\n",
      "  warnings.warn('Was asked to gather along dimension 0, but all '\n"
     ]
    },
    {
     "data": {
      "text/html": [
       "\n",
       "    <div>\n",
       "      \n",
       "      <progress value='40' max='20' style='width:300px; height:20px; vertical-align: middle;'></progress>\n",
       "      [20/20 00:06]\n",
       "    </div>\n",
       "    "
      ],
      "text/plain": [
       "<IPython.core.display.HTML object>"
      ]
     },
     "metadata": {},
     "output_type": "display_data"
    },
    {
     "data": {
      "text/plain": [
       "{'eval_loss': 2.3668019771575928,\n",
       " 'eval_accuracy': 0.53375,\n",
       " 'eval_runtime': 3.2361,\n",
       " 'eval_samples_per_second': 494.425,\n",
       " 'eval_steps_per_second': 6.18,\n",
       " 'epoch': 12.0}"
      ]
     },
     "execution_count": 39,
     "metadata": {},
     "output_type": "execute_result"
    }
   ],
   "source": [
    "trainer.evaluate()"
   ]
  },
  {
   "cell_type": "code",
   "execution_count": 40,
   "id": "26a7f2c5-56ed-452b-a07a-2cac62d49e2e",
   "metadata": {},
   "outputs": [
    {
     "name": "stderr",
     "output_type": "stream",
     "text": [
      "/home/cgarcia37/anaconda3/lib/python3.8/site-packages/torch/nn/parallel/data_parallel.py:30: UserWarning: \n",
      "    There is an imbalance between your GPUs. You may want to exclude GPU 1 which\n",
      "    has less than 75% of the memory or cores of GPU 0. You can do so by setting\n",
      "    the device_ids argument to DataParallel, or by setting the CUDA_VISIBLE_DEVICES\n",
      "    environment variable.\n",
      "  warnings.warn(imbalance_warn.format(device_ids[min_pos], device_ids[max_pos]))\n",
      "***** Running Prediction *****\n",
      "  Num examples = 1600\n",
      "  Batch size = 80\n",
      "/home/cgarcia37/anaconda3/lib/python3.8/site-packages/torch/nn/parallel/_functions.py:68: UserWarning: Was asked to gather along dimension 0, but all input tensors were scalars; will instead unsqueeze and return a vector.\n",
      "  warnings.warn('Was asked to gather along dimension 0, but all '\n"
     ]
    }
   ],
   "source": [
    "predicted_results = trainer.predict(test_dataset)"
   ]
  },
  {
   "cell_type": "code",
   "execution_count": 41,
   "id": "f8ca296e-56ab-4cba-8538-29db5281722a",
   "metadata": {},
   "outputs": [
    {
     "data": {
      "text/plain": [
       "(1600, 8)"
      ]
     },
     "execution_count": 41,
     "metadata": {},
     "output_type": "execute_result"
    }
   ],
   "source": [
    "predicted_results.predictions.shape"
   ]
  },
  {
   "cell_type": "code",
   "execution_count": 84,
   "id": "0f7f3166-1705-41e4-b99f-df8c8da4de37",
   "metadata": {},
   "outputs": [],
   "source": [
    "predicted_labels = predicted_results.predictions.argmax(-1) # Get the index -> highest probability prediction\n",
    "predicted_labels = predicted_labels.flatten().tolist()      # Flatten the predictions into a 1D list\n",
    "predicted_labels = [id2label[l] for l in predicted_labels]  # Convert from integers back to strings for readability"
   ]
  },
  {
   "cell_type": "code",
   "execution_count": 43,
   "id": "c19f15bf-b83a-456c-aaae-adaf289d79a5",
   "metadata": {},
   "outputs": [
    {
     "data": {
      "text/plain": [
       "1600"
      ]
     },
     "execution_count": 43,
     "metadata": {},
     "output_type": "execute_result"
    }
   ],
   "source": [
    "len(predicted_labels)"
   ]
  },
  {
   "cell_type": "code",
   "execution_count": 44,
   "id": "f083b26a-55df-492a-99d9-39a0ee35803f",
   "metadata": {},
   "outputs": [
    {
     "name": "stdout",
     "output_type": "stream",
     "text": [
      "                        precision    recall  f1-score   support\n",
      "\n",
      "              children       0.56      0.60      0.58       200\n",
      "        comics_graphic       0.67      0.66      0.66       200\n",
      "    fantasy_paranormal       0.40      0.42      0.41       200\n",
      "     history_biography       0.57      0.48      0.52       200\n",
      "mystery_thriller_crime       0.55      0.53      0.54       200\n",
      "                poetry       0.76      0.71      0.73       200\n",
      "               romance       0.51      0.46      0.48       200\n",
      "           young_adult       0.33      0.40      0.36       200\n",
      "\n",
      "              accuracy                           0.53      1600\n",
      "             macro avg       0.54      0.53      0.54      1600\n",
      "          weighted avg       0.54      0.53      0.54      1600\n",
      "\n"
     ]
    }
   ],
   "source": [
    "print(classification_report(test_labels, predicted_labels))"
   ]
  },
  {
   "cell_type": "markdown",
   "id": "13fd437e-4b67-4b70-bef5-9ce08090208d",
   "metadata": {},
   "source": [
    "# Correct and Incorrect classifications"
   ]
  },
  {
   "cell_type": "code",
   "execution_count": 45,
   "id": "afc59e1f-e5ea-40ef-8f8c-af1136054772",
   "metadata": {},
   "outputs": [
    {
     "name": "stdout",
     "output_type": "stream",
     "text": [
      "LABEL: romance\n",
      "REVIEW TEXT: Snarky me has never read a Christmas romance. I generally stay away from them just on principle. How ...\n",
      "\n",
      "LABEL: young_adult\n",
      "REVIEW TEXT: Everytime I read something written by Marie Lu , I end up in tears. Right now, I am crying so hard.  ...\n",
      "\n",
      "LABEL: comics_graphic\n",
      "REVIEW TEXT: Not... \n",
      " Not surprising that the doctor can have a sense of humor. This was amazing and even as comi ...\n",
      "\n",
      "LABEL: young_adult\n",
      "REVIEW TEXT: This book was alright, took me a while to read. The ending is very surprising, and the general theme ...\n",
      "\n",
      "LABEL: children\n",
      "REVIEW TEXT: Once you've read Diary of a Wombat, you are probably primed to love \"How to Scratch a Wombat,\" which ...\n",
      "\n"
     ]
    }
   ],
   "source": [
    "# Correct\n",
    "\n",
    "for _true_label, _predicted_label, _text in random.sample(list(zip(test_labels, predicted_labels, test_texts)), 10):\n",
    "    if _true_label == _predicted_label:\n",
    "        print('LABEL:', _true_label)\n",
    "        print('REVIEW TEXT:', _text[:100], '...')\n",
    "        print()"
   ]
  },
  {
   "cell_type": "code",
   "execution_count": 46,
   "id": "71726b0d-dfb1-4294-9e2e-474f644f2701",
   "metadata": {},
   "outputs": [
    {
     "name": "stdout",
     "output_type": "stream",
     "text": [
      "TRUE LABEL: romance\n",
      "PREDICTED LABEL: young_adult\n",
      "REVIEW TEXT: I don't know how I got out of sequence. I think this part of the series may be one of my faves. ...\n",
      "\n",
      "TRUE LABEL: mystery_thriller_crime\n",
      "PREDICTED LABEL: young_adult\n",
      "REVIEW TEXT: waited a long time to read this as it wasn't available in the uk. Finally got it for free through my ...\n",
      "\n",
      "TRUE LABEL: poetry\n",
      "PREDICTED LABEL: history_biography\n",
      "REVIEW TEXT: Reading this was hard to remember. About the greeks and the war and helen who was stolen and the tro ...\n",
      "\n",
      "TRUE LABEL: romance\n",
      "PREDICTED LABEL: young_adult\n",
      "REVIEW TEXT: I loveeeedd this book, it was better than I thought it would be. It doesnt has this crazy plot twist ...\n",
      "\n",
      "TRUE LABEL: history_biography\n",
      "PREDICTED LABEL: mystery_thriller_crime\n",
      "REVIEW TEXT: I did not enjoy this quite as much as I expected. A good listen but was not overwhelmed. I think par ...\n",
      "\n"
     ]
    }
   ],
   "source": [
    "# Incorrect\n",
    "\n",
    "for _true_label, _predicted_label, _text in random.sample(list(zip(test_labels, predicted_labels, test_texts)), 10):\n",
    "    if _true_label != _predicted_label:\n",
    "        print('TRUE LABEL:', _true_label)\n",
    "        print('PREDICTED LABEL:', _predicted_label)\n",
    "        print('REVIEW TEXT:', _text[:100], '...')\n",
    "        print()"
   ]
  },
  {
   "cell_type": "code",
   "execution_count": 47,
   "id": "e0f6570b-0969-4172-a51a-633ea20c1376",
   "metadata": {},
   "outputs": [],
   "source": [
    "# Heatmaps to examine misclassification\n",
    "\n",
    "genre_classifications_dict = defaultdict(int)\n",
    "for _true_label, _predicted_label in zip(test_labels, predicted_labels):\n",
    "    genre_classifications_dict[(_true_label, _predicted_label)] += 1\n",
    "  \n",
    "dicts_to_plot = []\n",
    "for (_true_genre, _predicted_genre), _count in genre_classifications_dict.items():\n",
    "    dicts_to_plot.append({'True Genre': _true_genre,\n",
    "                        'Predicted Genre': _predicted_genre,\n",
    "                        'Number of Classifications': _count})\n",
    "  \n",
    "df_to_plot = pd.DataFrame(dicts_to_plot)\n",
    "df_wide = df_to_plot.pivot_table(index='True Genre', \n",
    "                                 columns='Predicted Genre', \n",
    "                                 values='Number of Classifications')"
   ]
  },
  {
   "cell_type": "code",
   "execution_count": 48,
   "id": "7c33b4f0-6bcd-4f01-9b61-d2f5ada0e697",
   "metadata": {},
   "outputs": [
    {
     "data": {
      "image/png": "[encoded data removed]",
      "text/plain": [
       "<Figure size 648x504 with 2 Axes>"
      ]
     },
     "metadata": {},
     "output_type": "display_data"
    }
   ],
   "source": [
    "plt.figure(figsize=(9,7))\n",
    "sns.set(style='ticks', font_scale=1.2)\n",
    "sns.heatmap(df_wide, linewidths=1, cmap='Purples')    \n",
    "plt.xticks(rotation=45, ha='right')\n",
    "plt.tight_layout()\n",
    "plt.show()"
   ]
  },
  {
   "cell_type": "code",
   "execution_count": 49,
   "id": "9fe67a08-9fdb-4e72-a6ed-0fa2a4b1fdbb",
   "metadata": {},
   "outputs": [],
   "source": [
    "# Remove the diagonal from the plot to highlight the misclassifications\n",
    "\n",
    "genre_classifications_dict = defaultdict(int)\n",
    "for _true_label, _predicted_label in zip(test_labels, predicted_labels):\n",
    "    if _true_label != _predicted_label: # Remove the diagonal to highlight misclassifications\n",
    "        genre_classifications_dict[(_true_label, _predicted_label)] += 1\n",
    "  \n",
    "dicts_to_plot = []\n",
    "for (_true_genre, _predicted_genre), _count in genre_classifications_dict.items():\n",
    "    dicts_to_plot.append({'True Genre': _true_genre,\n",
    "                        'Predicted Genre': _predicted_genre,\n",
    "                        'Number of Classifications': _count})\n",
    "  \n",
    "df_to_plot = pd.DataFrame(dicts_to_plot)\n",
    "df_wide = df_to_plot.pivot_table(index='True Genre', \n",
    "                                 columns='Predicted Genre', \n",
    "                                 values='Number of Classifications')"
   ]
  },
  {
   "cell_type": "code",
   "execution_count": 50,
   "id": "371feab1-05ac-4c25-9080-2b525e730111",
   "metadata": {},
   "outputs": [
    {
     "data": {
      "image/png": "[encoded data removed]",
      "text/plain": [
       "<Figure size 648x504 with 2 Axes>"
      ]
     },
     "metadata": {},
     "output_type": "display_data"
    }
   ],
   "source": [
    "plt.figure(figsize=(9,7))\n",
    "sns.set(style='ticks', font_scale=1.2)\n",
    "sns.heatmap(df_wide, linewidths=1, cmap='Purples')    \n",
    "plt.xticks(rotation=45, ha='right')\n",
    "plt.tight_layout()\n",
    "plt.show()"
   ]
  },
  {
   "cell_type": "code",
   "execution_count": null,
   "id": "5fb1d65d-f71f-4026-8346-e7cc5a8d1c9a",
   "metadata": {},
   "outputs": [],
   "source": []
  },
  {
   "cell_type": "code",
   "execution_count": null,
   "id": "773f557b-0a96-472c-a228-b91ba8ec2b2a",
   "metadata": {},
   "outputs": [],
   "source": []
  },
  {
   "cell_type": "code",
   "execution_count": null,
   "id": "4b3b4f17-0f90-400c-a818-ca18369e2d27",
   "metadata": {},
   "outputs": [],
   "source": []
  }
 ],
 "metadata": {
  "kernelspec": {
   "display_name": "Python 3",
   "language": "python",
   "name": "python3"
  },
  "language_info": {
   "codemirror_mode": {
    "name": "ipython",
    "version": 3
   },
   "file_extension": ".py",
   "mimetype": "text/x-python",
   "name": "python",
   "nbconvert_exporter": "python",
   "pygments_lexer": "ipython3",
   "version": "3.8.8"
  }
 },
 "nbformat": 4,
 "nbformat_minor": 5
}
