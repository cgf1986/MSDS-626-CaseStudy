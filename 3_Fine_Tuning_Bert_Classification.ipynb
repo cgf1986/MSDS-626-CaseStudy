{
 "cells": [
  {
   "cell_type": "code",
   "execution_count": 3,
   "id": "80cf07e1-00b7-4791-a009-c5106e66b756",
   "metadata": {},
   "outputs": [],
   "source": [
    "# !pip3 install transformers\n",
    "# !pip install gdown"
   ]
  },
  {
   "cell_type": "code",
   "execution_count": 4,
   "id": "8eea8338-1885-4ad2-a5c3-3403dd66c7d1",
   "metadata": {},
   "outputs": [],
   "source": [
    "from collections import defaultdict\n",
    "import gdown\n",
    "import gzip\n",
    "import json\n",
    "import random\n",
    "import pickle\n",
    "\n",
    "import pandas as pd\n",
    "import numpy as np\n",
    "from sklearn.metrics import accuracy_score, precision_recall_fscore_support, classification_report\n",
    "from sklearn.feature_extraction.text import TfidfVectorizer\n",
    "from sklearn.linear_model import LogisticRegression\n",
    "import torch\n",
    "from transformers import DistilBertTokenizerFast, DistilBertForSequenceClassification\n",
    "from transformers import Trainer, TrainingArguments\n",
    "\n",
    "%matplotlib inline\n",
    "import matplotlib.pyplot as plt\n",
    "import seaborn as sns\n",
    "from matplotlib import ticker\n",
    "sns.set(style='ticks', font_scale=1.2)"
   ]
  },
  {
   "cell_type": "code",
   "execution_count": null,
   "id": "35e793bd-a8a1-4f41-9a18-6762ae331392",
   "metadata": {},
   "outputs": [],
   "source": [
    " "
   ]
  },
  {
   "cell_type": "code",
   "execution_count": 5,
   "id": "d0e131bf-52d4-454d-ba86-3a7f8adf8ccc",
   "metadata": {},
   "outputs": [],
   "source": [
    "# This is where our target data is hosted on the web. You only need these paths for the book review dataset.\n",
    "\n",
    "genre_url_dict = {'poetry':                 'https://drive.google.com/uc?id=1FVD3LxJXRc5GrKm97LehLgVGbRfF9TyO',\n",
    "                  'children':               'https://drive.google.com/uc?id=1908GDMdrhDN7sTaI_FelSHxbwcNM1EzR',\n",
    "                  'comics_graphic':         'https://drive.google.com/uc?id=1V4MLeoEiPQdocCbUHjR_7L9ZmxTufPFe',\n",
    "                  'fantasy_paranormal':     'https://drive.google.com/uc?id=1THnnmE4XSCvMkGOsqapQr2cJI5amKA6X',\n",
    "                  'history_biography':      'https://drive.google.com/uc?id=1lDkTzM6zpYU-HGkVAQgsw0dBzik-Zde9',\n",
    "                  'mystery_thriller_crime': 'https://drive.google.com/uc?id=1ONpyuv0vrtd6iUEp0-zzkKqwpm3njEqi',\n",
    "                  'romance':                'https://drive.google.com/uc?id=1NpFsDQKBj_lrTzSASfyKbmkSykzN88wE',\n",
    "                  'young_adult':            'https://drive.google.com/uc?id=1M5iqCZ8a7rZRtsmY5KQ5rYnP9S0bQJVo'}"
   ]
  },
  {
   "cell_type": "code",
   "execution_count": 6,
   "id": "1dd20822-4113-4243-91ea-7e5d7b5e3b23",
   "metadata": {},
   "outputs": [
    {
     "name": "stderr",
     "output_type": "stream",
     "text": [
      "Downloading...\n",
      "From: https://drive.google.com/uc?id=1FVD3LxJXRc5GrKm97LehLgVGbRfF9TyO\n",
      "To: /home/cgarcia37/Teaching/poetry.json.gz\n",
      "100%|██████████| 49.3M/49.3M [00:01<00:00, 32.6MB/s]\n",
      "Downloading...\n",
      "From: https://drive.google.com/uc?id=1908GDMdrhDN7sTaI_FelSHxbwcNM1EzR\n",
      "To: /home/cgarcia37/Teaching/children.json.gz\n",
      "100%|██████████| 172M/172M [00:04<00:00, 38.0MB/s] \n",
      "Downloading...\n",
      "From: https://drive.google.com/uc?id=1V4MLeoEiPQdocCbUHjR_7L9ZmxTufPFe\n",
      "To: /home/cgarcia37/Teaching/comics_graphic.json.gz\n",
      "100%|██████████| 147M/147M [00:03<00:00, 37.9MB/s] \n",
      "Downloading...\n",
      "From: https://drive.google.com/uc?id=1THnnmE4XSCvMkGOsqapQr2cJI5amKA6X\n",
      "To: /home/cgarcia37/Teaching/fantasy_paranormal.json.gz\n",
      "100%|██████████| 1.26G/1.26G [00:19<00:00, 63.4MB/s]\n",
      "Downloading...\n",
      "From: https://drive.google.com/uc?id=1lDkTzM6zpYU-HGkVAQgsw0dBzik-Zde9\n",
      "To: /home/cgarcia37/Teaching/history_biography.json.gz\n",
      "100%|██████████| 754M/754M [00:13<00:00, 55.5MB/s] \n",
      "Downloading...\n",
      "From: https://drive.google.com/uc?id=1ONpyuv0vrtd6iUEp0-zzkKqwpm3njEqi\n",
      "To: /home/cgarcia37/Teaching/mystery_thriller_crime.json.gz\n",
      "100%|██████████| 610M/610M [00:11<00:00, 55.3MB/s] \n",
      "Downloading...\n",
      "From: https://drive.google.com/uc?id=1NpFsDQKBj_lrTzSASfyKbmkSykzN88wE\n",
      "To: /home/cgarcia37/Teaching/romance.json.gz\n",
      "100%|██████████| 1.30G/1.30G [00:21<00:00, 60.0MB/s]\n",
      "Downloading...\n",
      "From: https://drive.google.com/uc?id=1M5iqCZ8a7rZRtsmY5KQ5rYnP9S0bQJVo\n",
      "To: /home/cgarcia37/Teaching/young_adult.json.gz\n",
      "100%|██████████| 899M/899M [00:14<00:00, 60.5MB/s] \n"
     ]
    }
   ],
   "source": [
    "for _genre, _url in genre_url_dict.items():\n",
    "    gdown.download(_url, _genre + '.json.gz', quiet=False) "
   ]
  },
  {
   "cell_type": "code",
   "execution_count": 7,
   "id": "a120e2bf-c09c-410a-a2c5-7fdc9e35f20b",
   "metadata": {},
   "outputs": [],
   "source": [
    "def load_reviews(file_name,\n",
    "                 head=None):\n",
    "\n",
    "    reviews = []\n",
    "    count = 0\n",
    "\n",
    "    with gzip.open(file_name) as file:\n",
    "        for line in file:\n",
    "\n",
    "            d = json.loads(line)\n",
    "            count += 1\n",
    "\n",
    "            _book_id = d['book_id']\n",
    "\n",
    "            reviews.append(d['review_text'])\n",
    "\n",
    "            # Break if we reach the Nth line\n",
    "            if (head is not None) and (count > head):\n",
    "                break\n",
    "\n",
    "    return reviews"
   ]
  },
  {
   "cell_type": "code",
   "execution_count": 8,
   "id": "51061b84-ad82-4e56-9cc4-2a66b82593f0",
   "metadata": {},
   "outputs": [
    {
     "name": "stdout",
     "output_type": "stream",
     "text": [
      "Loading poetry.json.gz\n",
      "Loading children.json.gz\n",
      "Loading comics_graphic.json.gz\n",
      "Loading fantasy_paranormal.json.gz\n",
      "Loading history_biography.json.gz\n",
      "Loading mystery_thriller_crime.json.gz\n",
      "Loading romance.json.gz\n",
      "Loading young_adult.json.gz\n"
     ]
    }
   ],
   "source": [
    "genres = ['poetry', 'children', 'comics_graphic', 'fantasy_paranormal', 'history_biography', 'mystery_thriller_crime', 'romance', 'young_adult']\n",
    "genre_reviews_dict = {}\n",
    "\n",
    "for _genre in genres:\n",
    "    print('Loading ' + _genre + '.json.gz')\n",
    "    _reviews = load_reviews(_genre + '.json.gz')\n",
    "    genre_reviews_dict[_genre] = random.sample(_reviews, 2000)"
   ]
  },
  {
   "cell_type": "code",
   "execution_count": 9,
   "id": "a426dbf6-6e2c-4c80-a981-90360575d59c",
   "metadata": {},
   "outputs": [
    {
     "name": "stdout",
     "output_type": "stream",
     "text": [
      "===========================\n",
      "poetry\n",
      "===========================\n",
      "Fun, silly poems combined with even more fun, unique collage artwork.\n",
      "\n",
      "===========================\n",
      "children\n",
      "===========================\n",
      "Prompt: a book you loved as a child. When I was in first grade, my teacher would read The Boxcar Children to my class. I loved the series and continued to check out the books from the library after the school year ended. This is the first time I've revisited these books and it brought back memories. Great light read and a great children's book!\n",
      "\n",
      "===========================\n",
      "comics_graphic\n",
      "===========================\n",
      "Well, this was a collection of short stories as the title implies. The Journal of John Ikos brought... John Ikos, Dane, and Billy (from Dead, Billy, Dead) together to go against a group of extremist vampires. The story was good, and it's always a pleasure to see Dane. The way that Dane and Ikos interacted was very believable... and I am curious as to where Norris is now. \n",
      " Picking Up the Pieces didn't hit me as strongly as The Journal of John Ikos, but it was still an okay story. I would like a bit more variety, rather than destroying Barrow Part Deux. \n",
      " Dead Space... where do I begin? The story was fun, and rather clever. Vampires in Space is a fun enough concept, and Templesmith pulled off the artwork as only he can. The ending? Very interesting, in what it bodes for the rest of the series. I like the implications for sure. \n",
      " All in all, this was a solid effort. I like the world of 30 Days of Night and I look forward to seeing where it will take us next.\n",
      "\n",
      "===========================\n",
      "fantasy_paranormal\n",
      "===========================\n",
      "Have you begin to read this book, you comes not to put it down before you have finnished it. I loved this another view of cinderella :p Love it\n",
      "\n",
      "===========================\n",
      "history_biography\n",
      "===========================\n",
      "recommend it to everyone .. this is very touching,inspiring and such a spiritual book \n",
      " it got me interested to visit turkey and learn more about rumi and Sufism . \n",
      " this book offer you a spiritual journey full of adventure and dramatic changes . it is written with depth and warmth .\n",
      "\n",
      "===========================\n",
      "mystery_thriller_crime\n",
      "===========================\n",
      "I love this series. \n",
      " It comes with a caveat, though. You must be willing to believe the impossible. \n",
      " Evan is a wonderfully conflicted protagonist. That he's a killing machine with a gentle heart is fascinating and engrossing. \n",
      " Evan's ability to survive the unsurvivable takes some imagination stretching but really doesn't subtract much from the heart pounding action. The battle scenes have so much artistry, humor, and excitement. \n",
      " I'm looking forward to book 3.\n",
      "\n",
      "===========================\n",
      "romance\n",
      "===========================\n",
      "** spoiler alert ** \n",
      " This was a great book if you wanted nothing but sex scene after sex scene...long ones at that...I wanted an actual story between those sex scenes which did not really happen. And there were some major inconsistencies. Like he tells her he loves her and 40 pages later he says that he never said he loved her and regrets that...major error. The author tried to put some obstacles out there...but they never amounted to anything...her illness was a no go issue as was her stalker, his stalker type, his amnesia. The whole gamut of stuff that was over before it even started. It really made no real sense in the book and added nothing to the non-existent plot line. The characters were flat, uninteresting, and evoked no emotions from the reader (me).. I would not recommend this one.\n",
      "\n",
      "===========================\n",
      "young_adult\n",
      "===========================\n",
      "WOW! A definite must read or should be. Green is a fantastic writer. A near certainty that you will cry but so worth it. In High School a friend and I wrote \"Scout for President!\" because we just loved her so much. (To Kill a Mockingbird{obviously}) This book definitely makes you want to hang out with Hazel and Augustus and while it would be great if either of them were President you just want them to live and be happy and continue to make the world a better place because they are in it.\n",
      "\n"
     ]
    }
   ],
   "source": [
    "for _genre, _reviews in genre_reviews_dict.items():\n",
    "    print('===========================')\n",
    "    print(_genre)\n",
    "    print('===========================')\n",
    "    print(random.sample(_reviews, 1)[0])\n",
    "    print()"
   ]
  },
  {
   "cell_type": "code",
   "execution_count": 10,
   "id": "c24f8657-5514-4262-b284-a5c6a8e4d988",
   "metadata": {},
   "outputs": [],
   "source": [
    "pickle.dump(genre_reviews_dict, open('genre_reviews_dict.pickle', 'wb'))\n",
    "# genre_reviews_dict = pickle.load(open('genre_reviews_dict.pickle', 'rb'))"
   ]
  },
  {
   "cell_type": "markdown",
   "id": "a95083f5-26df-4b51-8f95-fdec1b4979e3",
   "metadata": {},
   "source": [
    "## Training and Test sets"
   ]
  },
  {
   "cell_type": "code",
   "execution_count": 11,
   "id": "27f237f9-b250-4a3f-a005-a210dee48251",
   "metadata": {},
   "outputs": [],
   "source": [
    "train_texts = []\n",
    "train_labels = []\n",
    "\n",
    "test_texts = []\n",
    "test_labels = []\n",
    "\n",
    "for _genre, _reviews in genre_reviews_dict.items():\n",
    "\n",
    "    _reviews = random.sample(_reviews, 1000) # Use a very small set as an example.\n",
    "  \n",
    "    for _review in _reviews[:800]:\n",
    "        train_texts.append(_review)\n",
    "        train_labels.append(_genre)\n",
    "    for _review in _reviews[800:]:\n",
    "        test_texts.append(_review)\n",
    "        test_labels.append(_genre)"
   ]
  },
  {
   "cell_type": "code",
   "execution_count": 12,
   "id": "aafb9d44-84c1-4cc5-83db-6c5d4764bca3",
   "metadata": {},
   "outputs": [
    {
     "name": "stdout",
     "output_type": "stream",
     "text": [
      "Train set: number of texts  6400 labels 6400\n",
      "Test set: number of texts  1600 labels 1600\n"
     ]
    }
   ],
   "source": [
    "print(\"Train set: number of texts \", len(train_texts), \"labels\", len(train_labels))\n",
    "print(\"Test set: number of texts \", len(test_texts), \"labels\", len(test_labels))"
   ]
  },
  {
   "cell_type": "code",
   "execution_count": 13,
   "id": "e888eb05-c9ec-47a9-bfd9-67b891ee3af8",
   "metadata": {},
   "outputs": [
    {
     "data": {
      "text/plain": [
       "('poetry',\n",
       " \"Max Porter's Grief is the Thing with Feathers is a light little novella that delicately weaves together fable, poetry, and grief to dissect the healing of a family after the loss of a mother and wife. It's elegant even in its moments of vulgarity, and a very quick read that is at once delightful and a bit depressing. Melancholic, maybe, which is my word of the week. An excellent way to spend a couple of hours, especially on a grey and rainy day.\")"
      ]
     },
     "execution_count": 13,
     "metadata": {},
     "output_type": "execute_result"
    }
   ],
   "source": [
    "train_labels[0], train_texts[0]"
   ]
  },
  {
   "cell_type": "markdown",
   "id": "0b9aa308-dcab-448e-b502-40a838a449b3",
   "metadata": {},
   "source": [
    "## Baseline model"
   ]
  },
  {
   "cell_type": "code",
   "execution_count": 14,
   "id": "05ff33aa-6cb8-4d87-b46e-ada068cd6b27",
   "metadata": {},
   "outputs": [],
   "source": [
    "vectorizer = TfidfVectorizer()\n",
    "X_train = vectorizer.fit_transform(train_texts)\n",
    "X_test = vectorizer.transform(test_texts)"
   ]
  },
  {
   "cell_type": "code",
   "execution_count": 15,
   "id": "b1b4a425-46a1-4d0d-8a1e-88d9fea97014",
   "metadata": {},
   "outputs": [],
   "source": [
    "model = LogisticRegression(max_iter=1000).fit(X_train, train_labels)\n",
    "predictions = model.predict(X_test)"
   ]
  },
  {
   "cell_type": "code",
   "execution_count": 16,
   "id": "b8e2888a-3af9-4266-b233-03caf1a4f157",
   "metadata": {},
   "outputs": [
    {
     "name": "stdout",
     "output_type": "stream",
     "text": [
      "                        precision    recall  f1-score   support\n",
      "\n",
      "              children       0.62      0.57      0.59       200\n",
      "        comics_graphic       0.60      0.56      0.58       200\n",
      "    fantasy_paranormal       0.35      0.30      0.33       200\n",
      "     history_biography       0.47      0.46      0.46       200\n",
      "mystery_thriller_crime       0.53      0.52      0.52       200\n",
      "                poetry       0.57      0.71      0.63       200\n",
      "               romance       0.42      0.45      0.43       200\n",
      "           young_adult       0.36      0.37      0.36       200\n",
      "\n",
      "              accuracy                           0.49      1600\n",
      "             macro avg       0.49      0.49      0.49      1600\n",
      "          weighted avg       0.49      0.49      0.49      1600\n",
      "\n"
     ]
    }
   ],
   "source": [
    "print(classification_report(test_labels, predictions))"
   ]
  },
  {
   "cell_type": "markdown",
   "id": "44201d00-bbbf-47ce-bda8-43186dbacab1",
   "metadata": {},
   "source": [
    "## Texts and labels for BERT\n"
   ]
  },
  {
   "cell_type": "code",
   "execution_count": 17,
   "id": "4431ce86-3a08-410d-a1d4-507f636346c2",
   "metadata": {},
   "outputs": [],
   "source": [
    "# This is the name of the BERT model that we want to use. \n",
    "# We're using DistilBERT to save space (it's a distilled version of the full BERT model), \n",
    "# and we're going to use the cased (vs uncased) version.\n",
    "model_name = 'distilbert-base-cased'  \n",
    "\n",
    "# This is the name of the program management system for NVIDIA GPUs. We're going to send our code here.\n",
    "device_name = 'cuda'       \n",
    "\n",
    "# This is the maximum number of tokens in any document sent to BERT.\n",
    "max_length = 512                                                        \n",
    "\n",
    "# This is the name of the directory where we'll save our model. You can name it whatever you want.\n",
    "cached_model_directory_name = '/home/cgarcia37/Teaching/results/' "
   ]
  },
  {
   "cell_type": "code",
   "execution_count": 18,
   "id": "bd31a0b0-9672-4434-884d-e406d10ac3d4",
   "metadata": {},
   "outputs": [],
   "source": [
    "# labels turned into integers.\n",
    "# texts truncated/padded (512 tokens). Tokens separated into \"word pieces\" and matched to their embedding vectors.\n",
    "# add special tokens: [CLS], [SEP], [PAD], [##]\n",
    "# less frequent words will be split into two or more pieces. (prefix ##)"
   ]
  },
  {
   "cell_type": "code",
   "execution_count": 19,
   "id": "1f30a7cb-02c8-4bdc-9acc-9ffca453783a",
   "metadata": {},
   "outputs": [],
   "source": [
    "tokenizer = DistilBertTokenizerFast.from_pretrained(model_name) # model_name = 'distilbert-base-cased'"
   ]
  },
  {
   "cell_type": "markdown",
   "id": "8fae9548-143b-4ee4-9218-d82ef12ff5ce",
   "metadata": {},
   "source": [
    "## Labels"
   ]
  },
  {
   "cell_type": "code",
   "execution_count": 20,
   "id": "ccebcad0-d167-4232-9a85-18fefbcf4337",
   "metadata": {},
   "outputs": [],
   "source": [
    "unique_labels = set(label for label in train_labels)\n",
    "label2id = {label: id for id, label in enumerate(unique_labels)}\n",
    "id2label = {id: label for label, id in label2id.items()}"
   ]
  },
  {
   "cell_type": "code",
   "execution_count": 47,
   "id": "2a98c52d-666e-461e-ab1e-e98956a57613",
   "metadata": {},
   "outputs": [
    {
     "data": {
      "text/plain": [
       "{'poetry': 0,\n",
       " 'history_biography': 1,\n",
       " 'young_adult': 2,\n",
       " 'children': 3,\n",
       " 'comics_graphic': 4,\n",
       " 'mystery_thriller_crime': 5,\n",
       " 'fantasy_paranormal': 6,\n",
       " 'romance': 7}"
      ]
     },
     "execution_count": 47,
     "metadata": {},
     "output_type": "execute_result"
    }
   ],
   "source": [
    "label2id\n",
    "#label2id.keys()\n",
    "#label2id.values()\n",
    "#label2id['poetry']"
   ]
  },
  {
   "cell_type": "code",
   "execution_count": 48,
   "id": "9989d760-7557-4e21-b69c-fa06c5b51ad6",
   "metadata": {},
   "outputs": [
    {
     "data": {
      "text/plain": [
       "{0: 'poetry',\n",
       " 1: 'history_biography',\n",
       " 2: 'young_adult',\n",
       " 3: 'children',\n",
       " 4: 'comics_graphic',\n",
       " 5: 'mystery_thriller_crime',\n",
       " 6: 'fantasy_paranormal',\n",
       " 7: 'romance'}"
      ]
     },
     "execution_count": 48,
     "metadata": {},
     "output_type": "execute_result"
    }
   ],
   "source": [
    "id2label\n",
    "#id2label.keys()\n",
    "#id2label.values()\n",
    "#id2label[0]"
   ]
  },
  {
   "cell_type": "code",
   "execution_count": 23,
   "id": "b582bdcd-3899-45cc-8013-9f168fdf1ac7",
   "metadata": {},
   "outputs": [],
   "source": [
    "train_encodings = tokenizer(train_texts, truncation=True, padding=True, max_length=max_length)\n",
    "test_encodings  = tokenizer(test_texts, truncation=True, padding=True, max_length=max_length)\n",
    "\n",
    "train_labels_encoded = [label2id[y] for y in train_labels]\n",
    "test_labels_encoded  = [label2id[y] for y in test_labels]"
   ]
  },
  {
   "cell_type": "code",
   "execution_count": 24,
   "id": "c4b351a7-e2e3-41c6-88b4-5525e15f41db",
   "metadata": {},
   "outputs": [
    {
     "data": {
      "text/plain": [
       "'[CLS] Find my book review here : https : / / the ##roy ##al ##pol ##ar ##be ##ar ##read ##s . word ##p ##r . . . \" How could words can be so powerful and en ##chan ##ting ? \" My first thought after reading the book . There are a significant power and advocacy that Amanda Love ##lace is trying to emphasize on making poet ##ries . It was vast . There \\' s an impact . She can make simple words , into magnificent phrases , that has a double meaning behind bars . This is the'"
      ]
     },
     "execution_count": 24,
     "metadata": {},
     "output_type": "execute_result"
    }
   ],
   "source": [
    "' '.join(train_encodings[3].tokens[0:100])"
   ]
  },
  {
   "cell_type": "code",
   "execution_count": 25,
   "id": "75d9baf8-69fd-4d59-a7be-69b670d3050d",
   "metadata": {},
   "outputs": [
    {
     "data": {
      "text/plain": [
       "'Find my book review here: https://theroyalpolarbearreads.wordpr... \\n \"How could words can be so powerful and enchanting?\" My first thought after reading the book. There are a significant power and advocacy that Amanda Lovelace is trying to emphasize on making poetries. It was vast. There\\'s an impact. She can make simple words, into magnificent phrases, that has a double meaning behind bars. \\n This is the power of literature. From fiction books to poetry to contemporaries. It teaches us a lot of things. With Amanda Lovelace\\'s poetry book, the princess saves herself in this one -- gave us a gripping, thrilling and exciting poetry that a person couldn\\'t think to ask. It holds you dearly in the heart and crushes you with the full realization of her message. Wonderfully written and strucking lines that can make her readers stare at nothingness because of the surreality of her poems. \\n One way or the another, I couldn\\'t question this book as to why it became the Goodreads Choice Awards of 2016 in Poetry because it deserves its place. And for someone who loves spoken words, this book will slay your belief and will make you enter the true form of the society - ugly and beautiful - and you couldn\\'t decide which one do you wish to see because either way, it is whether you wish to see the painful truth or the pleasing lie. \\n MY RATINGS: 5 STARS!'"
      ]
     },
     "execution_count": 25,
     "metadata": {},
     "output_type": "execute_result"
    }
   ],
   "source": [
    "train_texts[3]"
   ]
  },
  {
   "cell_type": "code",
   "execution_count": 26,
   "id": "14d3e201-e9ed-49b5-9995-2ff87380ae03",
   "metadata": {},
   "outputs": [
    {
     "data": {
      "text/plain": [
       "'[CLS] \" I feel love for all this , perhaps because I have nothing else to love . . . even though nothing truly merits the love of any soul , if , out of sentiment , we must give it , I might as well lavish it on the small ##ness of an ink ##well as on the grand in ##di ##fference of the stars . \" [SEP] [PAD] [PAD] [PAD] [PAD] [PAD] [PAD] [PAD] [PAD] [PAD] [PAD] [PAD] [PAD] [PAD] [PAD] [PAD] [PAD] [PAD] [PAD] [PAD] [PAD] [PAD] [PAD] [PAD] [PAD] [PAD] [PAD] [PAD] [PAD] [PAD] [PAD] [PAD]'"
      ]
     },
     "execution_count": 26,
     "metadata": {},
     "output_type": "execute_result"
    }
   ],
   "source": [
    "' '.join(test_encodings[0].tokens[0:100])"
   ]
  },
  {
   "cell_type": "code",
   "execution_count": 27,
   "id": "1483942c-c7ab-47ba-9640-4e0d46853520",
   "metadata": {},
   "outputs": [
    {
     "data": {
      "text/plain": [
       "'\"I feel love for all this, perhaps because I have nothing else to love ... even though nothing truly merits the love of any soul, if, out of sentiment, we must give it, I might as well lavish it on the smallness of an inkwell as on the grand indifference of the stars.\"'"
      ]
     },
     "execution_count": 27,
     "metadata": {},
     "output_type": "execute_result"
    }
   ],
   "source": [
    "test_texts[0]"
   ]
  },
  {
   "cell_type": "code",
   "execution_count": 28,
   "id": "032508d5-423f-458e-80af-ed9ad76c224d",
   "metadata": {},
   "outputs": [
    {
     "data": {
      "text/plain": [
       "{0, 1, 2, 3, 4, 5, 6, 7}"
      ]
     },
     "execution_count": 28,
     "metadata": {},
     "output_type": "execute_result"
    }
   ],
   "source": [
    "set(train_labels_encoded)"
   ]
  },
  {
   "cell_type": "code",
   "execution_count": 29,
   "id": "5025741c-e112-4bf1-8a13-520ba0cb6ae7",
   "metadata": {},
   "outputs": [
    {
     "data": {
      "text/plain": [
       "{0, 1, 2, 3, 4, 5, 6, 7}"
      ]
     },
     "execution_count": 29,
     "metadata": {},
     "output_type": "execute_result"
    }
   ],
   "source": [
    "set(test_labels_encoded)"
   ]
  },
  {
   "cell_type": "markdown",
   "id": "0fecd1e7-d826-4510-b61a-edcc2cd94235",
   "metadata": {},
   "source": [
    "## Torch dataset"
   ]
  },
  {
   "cell_type": "code",
   "execution_count": 40,
   "id": "b66c1b12-e6f8-4be9-9d0f-a808652625ea",
   "metadata": {},
   "outputs": [
    {
     "data": {
      "text/plain": [
       "Encoding(num_tokens=512, attributes=[ids, type_ids, tokens, offsets, attention_mask, special_tokens_mask, overflowing])"
      ]
     },
     "execution_count": 40,
     "metadata": {},
     "output_type": "execute_result"
    }
   ],
   "source": [
    "#print(train_encodings[0].tokens, train_encodings[0].ids, train_encodings[0].attention_mask)\n",
    "train_encodings[0]"
   ]
  },
  {
   "cell_type": "code",
   "execution_count": 104,
   "id": "f140b3da-3d99-48d7-9074-a6884a73508b",
   "metadata": {},
   "outputs": [],
   "source": [
    "class MyDataset(torch.utils.data.Dataset):\n",
    "    def __init__(self, encodings, labels):\n",
    "        self.encodings = encodings\n",
    "        self.labels = labels\n",
    "\n",
    "    def __getitem__(self, idx):\n",
    "        item = {key: torch.tensor(val[idx]) for key, val in self.encodings.items()}\n",
    "        item['labels'] = torch.tensor(self.labels[idx])\n",
    "        return item\n",
    "\n",
    "    def __len__(self):\n",
    "        return len(self.labels)"
   ]
  },
  {
   "cell_type": "code",
   "execution_count": 110,
   "id": "7d294f5f-37cf-407b-a9e1-2a800d641a82",
   "metadata": {},
   "outputs": [],
   "source": [
    "train_dataset = MyDataset(train_encodings, train_labels_encoded)\n",
    "test_dataset = MyDataset(test_encodings, test_labels_encoded)"
   ]
  },
  {
   "cell_type": "code",
   "execution_count": 114,
   "id": "2cf08585-65b2-40cd-8074-178869c3b986",
   "metadata": {},
   "outputs": [
    {
     "data": {
      "text/plain": [
       "'[CLS] Rene ##ging Q ##ui ##es ##cence is a glance into the heart of Sami ##ha Z ##uba ##ir . It is her rejection of still ##ness , her rejection of in ##action . She uses phrases that demand the reader pause and look more deeply . Yes , she could state her emotions in simpler terms , but that does not seem to be her goal . With language , Dr . Z ##uba ##ir adds ad ##orn ##ment to the m ##unda ##ne . Also , her word ##ings at time seem rough , but p ##olis ##h'"
      ]
     },
     "execution_count": 114,
     "metadata": {},
     "output_type": "execute_result"
    }
   ],
   "source": [
    "' '.join(train_dataset.encodings[0].tokens[0:100])"
   ]
  },
  {
   "cell_type": "markdown",
   "id": "d31cc1f7-193e-4e69-8b42-1a416c8453ec",
   "metadata": {},
   "source": [
    "## Load the pretrained-model"
   ]
  },
  {
   "cell_type": "code",
   "execution_count": 115,
   "id": "460f661d-71fa-418d-83bb-e456951317df",
   "metadata": {},
   "outputs": [
    {
     "data": {
      "application/vnd.jupyter.widget-view+json": {
       "model_id": "a3196c02273c4b6ab0f846d83a65876f",
       "version_major": 2,
       "version_minor": 0
      },
      "text/plain": [
       "Downloading:   0%|          | 0.00/251M [00:00<?, ?B/s]"
      ]
     },
     "metadata": {},
     "output_type": "display_data"
    },
    {
     "name": "stderr",
     "output_type": "stream",
     "text": [
      "Some weights of the model checkpoint at distilbert-base-cased were not used when initializing DistilBertForSequenceClassification: ['vocab_layer_norm.weight', 'vocab_transform.weight', 'vocab_projector.bias', 'vocab_projector.weight', 'vocab_layer_norm.bias', 'vocab_transform.bias']\n",
      "- This IS expected if you are initializing DistilBertForSequenceClassification from the checkpoint of a model trained on another task or with another architecture (e.g. initializing a BertForSequenceClassification model from a BertForPreTraining model).\n",
      "- This IS NOT expected if you are initializing DistilBertForSequenceClassification from the checkpoint of a model that you expect to be exactly identical (initializing a BertForSequenceClassification model from a BertForSequenceClassification model).\n",
      "Some weights of DistilBertForSequenceClassification were not initialized from the model checkpoint at distilbert-base-cased and are newly initialized: ['pre_classifier.bias', 'pre_classifier.weight', 'classifier.weight', 'classifier.bias']\n",
      "You should probably TRAIN this model on a down-stream task to be able to use it for predictions and inference.\n"
     ]
    }
   ],
   "source": [
    "# The model_name needs to match the name used for the tokenizer above.\n",
    "model = DistilBertForSequenceClassification.from_pretrained(model_name, num_labels=len(id2label)).to(device_name)"
   ]
  },
  {
   "cell_type": "markdown",
   "id": "8a0efac5-dfe5-4b83-930a-72670effeeeb",
   "metadata": {},
   "source": [
    "## BERT fine-tuning parameters --> HuggingFace"
   ]
  },
  {
   "cell_type": "code",
   "execution_count": 116,
   "id": "2f1dfe3b-6772-4d7c-ae0a-b65d51ab9f21",
   "metadata": {},
   "outputs": [],
   "source": [
    "training_args = TrainingArguments(\n",
    "    num_train_epochs=3,              # total number of training epochs\n",
    "    per_device_train_batch_size=16,  # batch size per device during training\n",
    "    per_device_eval_batch_size=20,   # batch size for evaluation\n",
    "    learning_rate=5e-5,              # initial learning rate for Adam optimizer\n",
    "    warmup_steps=100,                # number of warmup steps for learning rate scheduler (set lower because of small dataset size)\n",
    "    weight_decay=0.01,               # strength of weight decay\n",
    "    output_dir='./results',          # output directory\n",
    "    logging_dir='./logs',            # directory for storing logs\n",
    "    logging_steps=100,               # number of steps to output logging (set lower because of small dataset size)\n",
    "    evaluation_strategy='steps',     # evaluate during fine-tuning so that we can see progress\n",
    ")"
   ]
  },
  {
   "cell_type": "code",
   "execution_count": 117,
   "id": "0d5e0631-91a2-4037-98e8-68117109f12b",
   "metadata": {},
   "outputs": [],
   "source": [
    "def compute_metrics(pred):\n",
    "    labels = pred.label_ids\n",
    "    preds = pred.predictions.argmax(-1)\n",
    "    acc = accuracy_score(labels, preds)\n",
    "    return {\n",
    "        'accuracy': acc,\n",
    "  }"
   ]
  },
  {
   "cell_type": "code",
   "execution_count": 126,
   "id": "c9591913-1b75-43c6-ae66-65b9bc96f97a",
   "metadata": {},
   "outputs": [],
   "source": [
    "trainer = Trainer(\n",
    "    model=model,                         # the instantiated 🤗 Transformers model to be trained\n",
    "    args=training_args,                  # training arguments, defined above\n",
    "    train_dataset=train_dataset,         # training dataset\n",
    "    eval_dataset=test_dataset,           # evaluation dataset (usually a validation set; here we just send our test set)\n",
    "    compute_metrics=compute_metrics      # our custom evaluation function \n",
    ")"
   ]
  },
  {
   "cell_type": "code",
   "execution_count": 127,
   "id": "d788dd2a-3a50-40a3-9a6e-fbd3d330e962",
   "metadata": {},
   "outputs": [
    {
     "name": "stderr",
     "output_type": "stream",
     "text": [
      "/home/cgarcia37/anaconda3/lib/python3.8/site-packages/transformers/optimization.py:306: FutureWarning: This implementation of AdamW is deprecated and will be removed in a future version. Use thePyTorch implementation torch.optim.AdamW instead, or set `no_deprecation_warning=True` to disable this warning\n",
      "  warnings.warn(\n",
      "/home/cgarcia37/anaconda3/lib/python3.8/site-packages/torch/nn/parallel/data_parallel.py:30: UserWarning: \n",
      "    There is an imbalance between your GPUs. You may want to exclude GPU 1 which\n",
      "    has less than 75% of the memory or cores of GPU 0. You can do so by setting\n",
      "    the device_ids argument to DataParallel, or by setting the CUDA_VISIBLE_DEVICES\n",
      "    environment variable.\n",
      "  warnings.warn(imbalance_warn.format(device_ids[min_pos], device_ids[max_pos]))\n",
      "***** Running training *****\n",
      "  Num examples = 6400\n",
      "  Num Epochs = 3\n",
      "  Instantaneous batch size per device = 16\n",
      "  Total train batch size (w. parallel, distributed & accumulation) = 64\n",
      "  Gradient Accumulation steps = 1\n",
      "  Total optimization steps = 300\n",
      "/home/cgarcia37/anaconda3/lib/python3.8/site-packages/torch/nn/parallel/_functions.py:68: UserWarning: Was asked to gather along dimension 0, but all input tensors were scalars; will instead unsqueeze and return a vector.\n",
      "  warnings.warn('Was asked to gather along dimension 0, but all '\n"
     ]
    },
    {
     "data": {
      "text/html": [
       "\n",
       "    <div>\n",
       "      \n",
       "      <progress value='300' max='300' style='width:300px; height:20px; vertical-align: middle;'></progress>\n",
       "      [300/300 01:53, Epoch 3/3]\n",
       "    </div>\n",
       "    <table border=\"1\" class=\"dataframe\">\n",
       "  <thead>\n",
       " <tr style=\"text-align: left;\">\n",
       "      <th>Step</th>\n",
       "      <th>Training Loss</th>\n",
       "      <th>Validation Loss</th>\n",
       "      <th>Accuracy</th>\n",
       "    </tr>\n",
       "  </thead>\n",
       "  <tbody>\n",
       "    <tr>\n",
       "      <td>100</td>\n",
       "      <td>0.854000</td>\n",
       "      <td>1.436626</td>\n",
       "      <td>0.513125</td>\n",
       "    </tr>\n",
       "    <tr>\n",
       "      <td>200</td>\n",
       "      <td>0.613100</td>\n",
       "      <td>1.498635</td>\n",
       "      <td>0.525000</td>\n",
       "    </tr>\n",
       "    <tr>\n",
       "      <td>300</td>\n",
       "      <td>0.410200</td>\n",
       "      <td>1.618877</td>\n",
       "      <td>0.528750</td>\n",
       "    </tr>\n",
       "  </tbody>\n",
       "</table><p>"
      ],
      "text/plain": [
       "<IPython.core.display.HTML object>"
      ]
     },
     "metadata": {},
     "output_type": "display_data"
    },
    {
     "name": "stderr",
     "output_type": "stream",
     "text": [
      "***** Running Evaluation *****\n",
      "  Num examples = 1600\n",
      "  Batch size = 80\n",
      "/home/cgarcia37/anaconda3/lib/python3.8/site-packages/torch/nn/parallel/_functions.py:68: UserWarning: Was asked to gather along dimension 0, but all input tensors were scalars; will instead unsqueeze and return a vector.\n",
      "  warnings.warn('Was asked to gather along dimension 0, but all '\n",
      "/home/cgarcia37/anaconda3/lib/python3.8/site-packages/torch/nn/parallel/data_parallel.py:30: UserWarning: \n",
      "    There is an imbalance between your GPUs. You may want to exclude GPU 1 which\n",
      "    has less than 75% of the memory or cores of GPU 0. You can do so by setting\n",
      "    the device_ids argument to DataParallel, or by setting the CUDA_VISIBLE_DEVICES\n",
      "    environment variable.\n",
      "  warnings.warn(imbalance_warn.format(device_ids[min_pos], device_ids[max_pos]))\n",
      "***** Running Evaluation *****\n",
      "  Num examples = 1600\n",
      "  Batch size = 80\n",
      "/home/cgarcia37/anaconda3/lib/python3.8/site-packages/torch/nn/parallel/_functions.py:68: UserWarning: Was asked to gather along dimension 0, but all input tensors were scalars; will instead unsqueeze and return a vector.\n",
      "  warnings.warn('Was asked to gather along dimension 0, but all '\n",
      "/home/cgarcia37/anaconda3/lib/python3.8/site-packages/torch/nn/parallel/data_parallel.py:30: UserWarning: \n",
      "    There is an imbalance between your GPUs. You may want to exclude GPU 1 which\n",
      "    has less than 75% of the memory or cores of GPU 0. You can do so by setting\n",
      "    the device_ids argument to DataParallel, or by setting the CUDA_VISIBLE_DEVICES\n",
      "    environment variable.\n",
      "  warnings.warn(imbalance_warn.format(device_ids[min_pos], device_ids[max_pos]))\n",
      "***** Running Evaluation *****\n",
      "  Num examples = 1600\n",
      "  Batch size = 80\n",
      "\n",
      "\n",
      "Training completed. Do not forget to share your model on huggingface.co/models =)\n",
      "\n",
      "\n"
     ]
    },
    {
     "data": {
      "text/plain": [
       "TrainOutput(global_step=300, training_loss=0.6257614517211914, metrics={'train_runtime': 113.9902, 'train_samples_per_second': 168.436, 'train_steps_per_second': 2.632, 'total_flos': 2543646198988800.0, 'train_loss': 0.6257614517211914, 'epoch': 3.0})"
      ]
     },
     "execution_count": 127,
     "metadata": {},
     "output_type": "execute_result"
    }
   ],
   "source": [
    "trainer.train()"
   ]
  },
  {
   "cell_type": "code",
   "execution_count": 128,
   "id": "9cd3069c-2998-4ff1-ab8f-fa5c35e0e712",
   "metadata": {},
   "outputs": [
    {
     "name": "stderr",
     "output_type": "stream",
     "text": [
      "Saving model checkpoint to /home/cgarcia37/Teaching/results/\n",
      "Configuration saved in /home/cgarcia37/Teaching/results/config.json\n",
      "Model weights saved in /home/cgarcia37/Teaching/results/pytorch_model.bin\n"
     ]
    }
   ],
   "source": [
    "trainer.save_model(cached_model_directory_name)"
   ]
  },
  {
   "cell_type": "code",
   "execution_count": 129,
   "id": "f93e6ae8-612f-45bc-80ae-341fbb1ca732",
   "metadata": {},
   "outputs": [],
   "source": [
    "#trainer = DistilBertForSequenceClassification.from_pretrained(cached_model_directory_name)"
   ]
  },
  {
   "cell_type": "markdown",
   "id": "72e3f371-7007-4605-8e2d-f5314f943305",
   "metadata": {},
   "source": [
    "## Evaluate"
   ]
  },
  {
   "cell_type": "code",
   "execution_count": 130,
   "id": "542a53e9-9e93-47c2-9434-70e60f2017ad",
   "metadata": {},
   "outputs": [
    {
     "name": "stderr",
     "output_type": "stream",
     "text": [
      "/home/cgarcia37/anaconda3/lib/python3.8/site-packages/torch/nn/parallel/data_parallel.py:30: UserWarning: \n",
      "    There is an imbalance between your GPUs. You may want to exclude GPU 1 which\n",
      "    has less than 75% of the memory or cores of GPU 0. You can do so by setting\n",
      "    the device_ids argument to DataParallel, or by setting the CUDA_VISIBLE_DEVICES\n",
      "    environment variable.\n",
      "  warnings.warn(imbalance_warn.format(device_ids[min_pos], device_ids[max_pos]))\n",
      "***** Running Evaluation *****\n",
      "  Num examples = 1600\n",
      "  Batch size = 80\n",
      "/home/cgarcia37/anaconda3/lib/python3.8/site-packages/torch/nn/parallel/_functions.py:68: UserWarning: Was asked to gather along dimension 0, but all input tensors were scalars; will instead unsqueeze and return a vector.\n",
      "  warnings.warn('Was asked to gather along dimension 0, but all '\n"
     ]
    },
    {
     "data": {
      "text/html": [
       "\n",
       "    <div>\n",
       "      \n",
       "      <progress value='40' max='20' style='width:300px; height:20px; vertical-align: middle;'></progress>\n",
       "      [20/20 01:14]\n",
       "    </div>\n",
       "    "
      ],
      "text/plain": [
       "<IPython.core.display.HTML object>"
      ]
     },
     "metadata": {},
     "output_type": "display_data"
    },
    {
     "data": {
      "text/plain": [
       "{'eval_loss': 1.6188769340515137,\n",
       " 'eval_accuracy': 0.52875,\n",
       " 'eval_runtime': 3.1855,\n",
       " 'eval_samples_per_second': 502.277,\n",
       " 'eval_steps_per_second': 6.278,\n",
       " 'epoch': 3.0}"
      ]
     },
     "execution_count": 130,
     "metadata": {},
     "output_type": "execute_result"
    }
   ],
   "source": [
    "trainer.evaluate()"
   ]
  },
  {
   "cell_type": "code",
   "execution_count": 131,
   "id": "26a7f2c5-56ed-452b-a07a-2cac62d49e2e",
   "metadata": {},
   "outputs": [
    {
     "name": "stderr",
     "output_type": "stream",
     "text": [
      "/home/cgarcia37/anaconda3/lib/python3.8/site-packages/torch/nn/parallel/data_parallel.py:30: UserWarning: \n",
      "    There is an imbalance between your GPUs. You may want to exclude GPU 1 which\n",
      "    has less than 75% of the memory or cores of GPU 0. You can do so by setting\n",
      "    the device_ids argument to DataParallel, or by setting the CUDA_VISIBLE_DEVICES\n",
      "    environment variable.\n",
      "  warnings.warn(imbalance_warn.format(device_ids[min_pos], device_ids[max_pos]))\n",
      "***** Running Prediction *****\n",
      "  Num examples = 1600\n",
      "  Batch size = 80\n",
      "/home/cgarcia37/anaconda3/lib/python3.8/site-packages/torch/nn/parallel/_functions.py:68: UserWarning: Was asked to gather along dimension 0, but all input tensors were scalars; will instead unsqueeze and return a vector.\n",
      "  warnings.warn('Was asked to gather along dimension 0, but all '\n"
     ]
    }
   ],
   "source": [
    "predicted_results = trainer.predict(test_dataset)"
   ]
  },
  {
   "cell_type": "code",
   "execution_count": 132,
   "id": "f8ca296e-56ab-4cba-8538-29db5281722a",
   "metadata": {},
   "outputs": [
    {
     "data": {
      "text/plain": [
       "(1600, 8)"
      ]
     },
     "execution_count": 132,
     "metadata": {},
     "output_type": "execute_result"
    }
   ],
   "source": [
    "predicted_results.predictions.shape"
   ]
  },
  {
   "cell_type": "code",
   "execution_count": 133,
   "id": "0f7f3166-1705-41e4-b99f-df8c8da4de37",
   "metadata": {},
   "outputs": [],
   "source": [
    "predicted_labels = predicted_results.predictions.argmax(-1) # Get the highest probability prediction\n",
    "predicted_labels = predicted_labels.flatten().tolist()      # Flatten the predictions into a 1D list\n",
    "predicted_labels = [id2label[l] for l in predicted_labels]  # Convert from integers back to strings for readability"
   ]
  },
  {
   "cell_type": "code",
   "execution_count": 134,
   "id": "c19f15bf-b83a-456c-aaae-adaf289d79a5",
   "metadata": {},
   "outputs": [
    {
     "data": {
      "text/plain": [
       "1600"
      ]
     },
     "execution_count": 134,
     "metadata": {},
     "output_type": "execute_result"
    }
   ],
   "source": [
    "len(predicted_labels)"
   ]
  },
  {
   "cell_type": "code",
   "execution_count": 135,
   "id": "f083b26a-55df-492a-99d9-39a0ee35803f",
   "metadata": {},
   "outputs": [
    {
     "name": "stdout",
     "output_type": "stream",
     "text": [
      "                        precision    recall  f1-score   support\n",
      "\n",
      "              children       0.60      0.62      0.61       200\n",
      "        comics_graphic       0.62      0.57      0.59       200\n",
      "    fantasy_paranormal       0.38      0.41      0.39       200\n",
      "     history_biography       0.53      0.52      0.53       200\n",
      "mystery_thriller_crime       0.55      0.57      0.56       200\n",
      "                poetry       0.72      0.72      0.72       200\n",
      "               romance       0.49      0.45      0.47       200\n",
      "           young_adult       0.35      0.36      0.36       200\n",
      "\n",
      "              accuracy                           0.53      1600\n",
      "             macro avg       0.53      0.53      0.53      1600\n",
      "          weighted avg       0.53      0.53      0.53      1600\n",
      "\n"
     ]
    }
   ],
   "source": [
    "print(classification_report(test_labels, predicted_labels))"
   ]
  },
  {
   "cell_type": "code",
   "execution_count": 141,
   "id": "afc59e1f-e5ea-40ef-8f8c-af1136054772",
   "metadata": {},
   "outputs": [
    {
     "name": "stdout",
     "output_type": "stream",
     "text": [
      "LABEL: mystery_thriller_crime\n",
      "REVIEW TEXT: One of the better in the series. Sadly little mention of his son, sister or (ex) fiance but as well  ...\n",
      "\n",
      "LABEL: young_adult\n",
      "REVIEW TEXT: This book did not disappoint me at all! I really enjoyed it and I thought it was very different from ...\n",
      "\n",
      "LABEL: poetry\n",
      "REVIEW TEXT: Small Arguments is dedicated \"To my parents for knowing the weight of how much\". The meaning of this ...\n",
      "\n",
      "LABEL: poetry\n",
      "REVIEW TEXT: nSwS 'dby@ qSyr@ wtharyW@ , flsf@ bthyn@ fy wjwh lHy@ lmt`dd@ , 'qSyS tbd' bklm@ wtnthy bHqyq@ mryr@ ...\n",
      "\n",
      "LABEL: romance\n",
      "REVIEW TEXT: I forgot how intense these two were but I freaking love them. I love them all. Jake and Abby. A.j. A ...\n",
      "\n",
      "LABEL: comics_graphic\n",
      "REVIEW TEXT: What I've always loved about comics and cartoons is the way they can introduce you to moments in his ...\n",
      "\n"
     ]
    }
   ],
   "source": [
    "for _true_label, _predicted_label, _text in random.sample(list(zip(test_labels, predicted_labels, test_texts)), 10):\n",
    "    if _true_label == _predicted_label:\n",
    "        print('LABEL:', _true_label)\n",
    "        print('REVIEW TEXT:', _text[:100], '...')\n",
    "        print()"
   ]
  },
  {
   "cell_type": "code",
   "execution_count": 142,
   "id": "71726b0d-dfb1-4294-9e2e-474f644f2701",
   "metadata": {},
   "outputs": [
    {
     "name": "stdout",
     "output_type": "stream",
     "text": [
      "TRUE LABEL: comics_graphic\n",
      "PREDICTED LABEL: young_adult\n",
      "REVIEW TEXT: I actually liked this second book a little better than the first... and that's saying something. ...\n",
      "\n",
      "TRUE LABEL: fantasy_paranormal\n",
      "PREDICTED LABEL: poetry\n",
      "REVIEW TEXT: mjld qSS lf lyl@ wlyl@ mmt` wmsly wldhydh { mtftH wl SfHh mtHs l nt bkhr SfHh } \n",
      " sm`t Hd lqr ljnb q ...\n",
      "\n",
      "TRUE LABEL: comics_graphic\n",
      "PREDICTED LABEL: poetry\n",
      "REVIEW TEXT: This is a funny one cause everytime I see the cover I think 'oh yeah this is the one I didn't like'  ...\n",
      "\n",
      "TRUE LABEL: romance\n",
      "PREDICTED LABEL: young_adult\n",
      "REVIEW TEXT: Picked up where the last one left off. Nila is being taken away and saved, it really happened, but.. ...\n",
      "\n",
      "TRUE LABEL: fantasy_paranormal\n",
      "PREDICTED LABEL: history_biography\n",
      "REVIEW TEXT: There's a reason that the old wives' tale of \"It seems too good to be true, it is.\" still holds thro ...\n",
      "\n",
      "TRUE LABEL: children\n",
      "PREDICTED LABEL: comics_graphic\n",
      "REVIEW TEXT: A picture book that makes your heart stop when you get to a certain spot in the story. \n",
      " Fantastic # ...\n",
      "\n",
      "TRUE LABEL: fantasy_paranormal\n",
      "PREDICTED LABEL: history_biography\n",
      "REVIEW TEXT: This is a tough book for me to rate. For the first 50% or so of the story it was sitting at a 3 star ...\n",
      "\n"
     ]
    }
   ],
   "source": [
    "for _true_label, _predicted_label, _text in random.sample(list(zip(test_labels, predicted_labels, test_texts)), 10):\n",
    "    if _true_label != _predicted_label:\n",
    "        print('TRUE LABEL:', _true_label)\n",
    "        print('PREDICTED LABEL:', _predicted_label)\n",
    "        print('REVIEW TEXT:', _text[:100], '...')\n",
    "        print()"
   ]
  },
  {
   "cell_type": "code",
   "execution_count": 143,
   "id": "e0f6570b-0969-4172-a51a-633ea20c1376",
   "metadata": {},
   "outputs": [],
   "source": [
    "genre_classifications_dict = defaultdict(int)\n",
    "for _true_label, _predicted_label in zip(test_labels, predicted_labels):\n",
    "    genre_classifications_dict[(_true_label, _predicted_label)] += 1\n",
    "  \n",
    "dicts_to_plot = []\n",
    "for (_true_genre, _predicted_genre), _count in genre_classifications_dict.items():\n",
    "    dicts_to_plot.append({'True Genre': _true_genre,\n",
    "                        'Predicted Genre': _predicted_genre,\n",
    "                        'Number of Classifications': _count})\n",
    "  \n",
    "df_to_plot = pd.DataFrame(dicts_to_plot)\n",
    "df_wide = df_to_plot.pivot_table(index='True Genre', \n",
    "                                 columns='Predicted Genre', \n",
    "                                 values='Number of Classifications')"
   ]
  },
  {
   "cell_type": "code",
   "execution_count": 144,
   "id": "7c33b4f0-6bcd-4f01-9b61-d2f5ada0e697",
   "metadata": {},
   "outputs": [
    {
     "data": {
      "image/png": "[encoded data removed]",
      "text/plain": [
       "<Figure size 648x504 with 2 Axes>"
      ]
     },
     "metadata": {},
     "output_type": "display_data"
    }
   ],
   "source": [
    "plt.figure(figsize=(9,7))\n",
    "sns.set(style='ticks', font_scale=1.2)\n",
    "sns.heatmap(df_wide, linewidths=1, cmap='Purples')    \n",
    "plt.xticks(rotation=45, ha='right')\n",
    "plt.tight_layout()\n",
    "plt.show()"
   ]
  },
  {
   "cell_type": "code",
   "execution_count": 145,
   "id": "9fe67a08-9fdb-4e72-a6ed-0fa2a4b1fdbb",
   "metadata": {},
   "outputs": [],
   "source": [
    "genre_classifications_dict = defaultdict(int)\n",
    "for _true_label, _predicted_label in zip(test_labels, predicted_labels):\n",
    "    if _true_label != _predicted_label: # Remove the diagonal to highlight misclassifications\n",
    "        genre_classifications_dict[(_true_label, _predicted_label)] += 1\n",
    "  \n",
    "dicts_to_plot = []\n",
    "for (_true_genre, _predicted_genre), _count in genre_classifications_dict.items():\n",
    "    dicts_to_plot.append({'True Genre': _true_genre,\n",
    "                        'Predicted Genre': _predicted_genre,\n",
    "                        'Number of Classifications': _count})\n",
    "  \n",
    "df_to_plot = pd.DataFrame(dicts_to_plot)\n",
    "df_wide = df_to_plot.pivot_table(index='True Genre', \n",
    "                                 columns='Predicted Genre', \n",
    "                                 values='Number of Classifications')"
   ]
  },
  {
   "cell_type": "code",
   "execution_count": 146,
   "id": "371feab1-05ac-4c25-9080-2b525e730111",
   "metadata": {},
   "outputs": [
    {
     "data": {
      "image/png": "[encoded data removed]",
      "text/plain": [
       "<Figure size 648x504 with 2 Axes>"
      ]
     },
     "metadata": {},
     "output_type": "display_data"
    }
   ],
   "source": [
    "plt.figure(figsize=(9,7))\n",
    "sns.set(style='ticks', font_scale=1.2)\n",
    "sns.heatmap(df_wide, linewidths=1, cmap='Purples')    \n",
    "plt.xticks(rotation=45, ha='right')\n",
    "plt.tight_layout()\n",
    "plt.show()"
   ]
  },
  {
   "cell_type": "code",
   "execution_count": 87,
   "id": "5fb1d65d-f71f-4026-8346-e7cc5a8d1c9a",
   "metadata": {},
   "outputs": [],
   "source": []
  },
  {
   "cell_type": "code",
   "execution_count": null,
   "id": "773f557b-0a96-472c-a228-b91ba8ec2b2a",
   "metadata": {},
   "outputs": [],
   "source": []
  },
  {
   "cell_type": "code",
   "execution_count": null,
   "id": "4b3b4f17-0f90-400c-a818-ca18369e2d27",
   "metadata": {},
   "outputs": [],
   "source": []
  }
 ],
 "metadata": {
  "kernelspec": {
   "display_name": "Python 3",
   "language": "python",
   "name": "python3"
  },
  "language_info": {
   "codemirror_mode": {
    "name": "ipython",
    "version": 3
   },
   "file_extension": ".py",
   "mimetype": "text/x-python",
   "name": "python",
   "nbconvert_exporter": "python",
   "pygments_lexer": "ipython3",
   "version": "3.8.8"
  }
 },
 "nbformat": 4,
 "nbformat_minor": 5
}
