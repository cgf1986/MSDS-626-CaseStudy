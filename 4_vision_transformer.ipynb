{
 "cells": [
  {
   "cell_type": "markdown",
   "id": "eb535656-7908-49c0-aa92-7b6bda13fc5a",
   "metadata": {},
   "source": [
    "# Fine-tune the Vision Transformer on CIFAR-10\n"
   ]
  },
  {
   "cell_type": "code",
   "execution_count": 1,
   "id": "21edac06-2aeb-4b22-a258-a786b5fda679",
   "metadata": {},
   "outputs": [],
   "source": [
    "#!pip install -q transformers datasets\n",
    "# Dataset = collection of 60,000 32x32 colour images in 10 classes, with 6000 images per class."
   ]
  },
  {
   "cell_type": "markdown",
   "id": "3e392c45-7d3e-4ab5-b1ed-3e29beed62f0",
   "metadata": {},
   "source": [
    "## Loading the Data"
   ]
  },
  {
   "cell_type": "code",
   "execution_count": 2,
   "id": "ba161651-f0ec-4e9c-acd0-7ba9a59f1745",
   "metadata": {},
   "outputs": [
    {
     "name": "stderr",
     "output_type": "stream",
     "text": [
      "Reusing dataset cifar10 (/home/cgarcia37/.cache/huggingface/datasets/cifar10/plain_text/1.0.0/447d6ec4733dddd1ce3bb577c7166b986eaa4c538dcd9e805ba61f35674a9de4)\n"
     ]
    },
    {
     "data": {
      "application/vnd.jupyter.widget-view+json": {
       "model_id": "d95ec868fecd4a82b9a910fac66ed141",
       "version_major": 2,
       "version_minor": 0
      },
      "text/plain": [
       "  0%|          | 0/2 [00:00<?, ?it/s]"
      ]
     },
     "metadata": {},
     "output_type": "display_data"
    }
   ],
   "source": [
    "from datasets import load_dataset\n",
    "\n",
    "# load cifar10 (only small portion for demonstration purposes) \n",
    "train_ds, test_ds = load_dataset('cifar10', split=['train[:5000]', 'test[:2000]'])\n",
    "\n",
    "# split up training into training + validation\n",
    "splits = train_ds.train_test_split(test_size=0.1)\n",
    "train_ds = splits['train']\n",
    "val_ds = splits['test']"
   ]
  },
  {
   "cell_type": "code",
   "execution_count": 3,
   "id": "a2f5243a-6583-46e5-9b38-1dc4830ff937",
   "metadata": {},
   "outputs": [
    {
     "name": "stdout",
     "output_type": "stream",
     "text": [
      "Train Dataset({\n",
      "    features: ['img', 'label'],\n",
      "    num_rows: 4500\n",
      "})\n",
      "Val Dataset({\n",
      "    features: ['img', 'label'],\n",
      "    num_rows: 500\n",
      "})\n",
      "Test Dataset({\n",
      "    features: ['img', 'label'],\n",
      "    num_rows: 2000\n",
      "})\n"
     ]
    }
   ],
   "source": [
    "# print out the dataset\n",
    "print(\"Train\",train_ds)\n",
    "print(\"Val\",val_ds)\n",
    "print(\"Test\",test_ds)"
   ]
  },
  {
   "cell_type": "code",
   "execution_count": 4,
   "id": "5da48cfc-9051-4ae6-9661-530a73017ed3",
   "metadata": {},
   "outputs": [
    {
     "data": {
      "text/plain": [
       "{'img': Image(decode=True, id=None),\n",
       " 'label': ClassLabel(num_classes=10, names=['airplane', 'automobile', 'bird', 'cat', 'deer', 'dog', 'frog', 'horse', 'ship', 'truck'], names_file=None, id=None)}"
      ]
     },
     "execution_count": 4,
     "metadata": {},
     "output_type": "execute_result"
    }
   ],
   "source": [
    "train_ds.features"
   ]
  },
  {
   "cell_type": "code",
   "execution_count": 5,
   "id": "abc349ff-40cf-429c-bad4-4220ca321c8b",
   "metadata": {},
   "outputs": [
    {
     "data": {
      "image/png": "[encoded data removed]",
      "text/plain": [
       "<PIL.PngImagePlugin.PngImageFile image mode=RGB size=32x32 at 0x7FF1FC7516D0>"
      ]
     },
     "execution_count": 5,
     "metadata": {},
     "output_type": "execute_result"
    }
   ],
   "source": [
    "# 2 features: 'img' (of type Image) and 'label' (of type ClassLabel)\n",
    "\n",
    "train_ds[0]['img']"
   ]
  },
  {
   "cell_type": "code",
   "execution_count": 6,
   "id": "62040a31-5b35-49a7-96b1-ddf221ead7c3",
   "metadata": {},
   "outputs": [
    {
     "data": {
      "text/plain": [
       "8"
      ]
     },
     "execution_count": 6,
     "metadata": {},
     "output_type": "execute_result"
    }
   ],
   "source": [
    "train_ds[0]['label']"
   ]
  },
  {
   "cell_type": "code",
   "execution_count": 7,
   "id": "c70f3560-2d63-41bd-95f3-043ef1bf08f6",
   "metadata": {},
   "outputs": [
    {
     "data": {
      "text/plain": [
       "{0: 'airplane',\n",
       " 1: 'automobile',\n",
       " 2: 'bird',\n",
       " 3: 'cat',\n",
       " 4: 'deer',\n",
       " 5: 'dog',\n",
       " 6: 'frog',\n",
       " 7: 'horse',\n",
       " 8: 'ship',\n",
       " 9: 'truck'}"
      ]
     },
     "execution_count": 7,
     "metadata": {},
     "output_type": "execute_result"
    }
   ],
   "source": [
    "# dictionary which maps between integer indices and actual class names (id2label)\n",
    "\n",
    "id2label = {id:label for id, label in enumerate(train_ds.features['label'].names)}\n",
    "label2id = {label:id for id,label in id2label.items()}\n",
    "id2label"
   ]
  },
  {
   "cell_type": "code",
   "execution_count": 8,
   "id": "44ac1b4f-fd9a-40aa-ba29-c343487815c4",
   "metadata": {},
   "outputs": [
    {
     "data": {
      "text/plain": [
       "'ship'"
      ]
     },
     "execution_count": 8,
     "metadata": {},
     "output_type": "execute_result"
    }
   ],
   "source": [
    "id2label[train_ds[0]['label']]"
   ]
  },
  {
   "cell_type": "markdown",
   "id": "daf9c144-33c0-4ee4-a2c8-4ae0681f2acb",
   "metadata": {},
   "source": [
    "## Preprocessing\n",
    "#### The model requires 2 things: pixel_values and labels."
   ]
  },
  {
   "cell_type": "code",
   "execution_count": 9,
   "id": "558b7d18-da8c-4961-9657-7f6e76031141",
   "metadata": {},
   "outputs": [],
   "source": [
    "from transformers import ViTFeatureExtractor\n",
    "\n",
    "feature_extractor = ViTFeatureExtractor.from_pretrained(\"google/vit-base-patch16-224-in21k\")"
   ]
  },
  {
   "cell_type": "code",
   "execution_count": 10,
   "id": "5cd8b534-f884-4f1b-929c-fba79ef413f2",
   "metadata": {},
   "outputs": [
    {
     "data": {
      "text/plain": [
       "ViTFeatureExtractor {\n",
       "  \"do_normalize\": true,\n",
       "  \"do_resize\": true,\n",
       "  \"feature_extractor_type\": \"ViTFeatureExtractor\",\n",
       "  \"image_mean\": [\n",
       "    0.5,\n",
       "    0.5,\n",
       "    0.5\n",
       "  ],\n",
       "  \"image_std\": [\n",
       "    0.5,\n",
       "    0.5,\n",
       "    0.5\n",
       "  ],\n",
       "  \"resample\": 2,\n",
       "  \"size\": 224\n",
       "}"
      ]
     },
     "execution_count": 10,
     "metadata": {},
     "output_type": "execute_result"
    }
   ],
   "source": [
    "feature_extractor"
   ]
  },
  {
   "cell_type": "code",
   "execution_count": 11,
   "id": "3dffac0e-3e6f-4409-b1b9-504e205eaf1a",
   "metadata": {},
   "outputs": [],
   "source": [
    "# Data augmentation on-the-fly using HuggingFace Datasets' set_transform method\n",
    "# This is convenient for tokenizing or padding text, or augmenting images at training time\n",
    "\n",
    "from torchvision.transforms import (CenterCrop, \n",
    "                                    Compose, \n",
    "                                    Normalize, \n",
    "                                    RandomHorizontalFlip,\n",
    "                                    RandomResizedCrop, \n",
    "                                    Resize, \n",
    "                                    ToTensor)\n",
    "\n",
    "normalize = Normalize(mean=feature_extractor.image_mean, std=feature_extractor.image_std)\n",
    "\n",
    "_train_transforms = Compose(\n",
    "        [\n",
    "            RandomResizedCrop(feature_extractor.size),\n",
    "            RandomHorizontalFlip(),\n",
    "            ToTensor(),\n",
    "            normalize,\n",
    "        ]\n",
    "    )\n",
    "\n",
    "_val_transforms = Compose(\n",
    "        [\n",
    "            Resize(feature_extractor.size),\n",
    "            CenterCrop(feature_extractor.size),\n",
    "            ToTensor(),\n",
    "            normalize,\n",
    "        ]\n",
    "    )\n",
    "\n",
    "def train_transforms(examples):\n",
    "    examples['pixel_values'] = [_train_transforms(image.convert(\"RGB\")) for image in examples['img']]\n",
    "    return examples\n",
    "\n",
    "def val_transforms(examples):\n",
    "    examples['pixel_values'] = [_val_transforms(image.convert(\"RGB\")) for image in examples['img']]\n",
    "    return examples"
   ]
  },
  {
   "cell_type": "code",
   "execution_count": 12,
   "id": "35ae7b62-9319-4065-98bc-8a80084f4391",
   "metadata": {},
   "outputs": [],
   "source": [
    "# Set the transforms\n",
    "train_ds.set_transform(train_transforms)\n",
    "val_ds.set_transform(val_transforms)\n",
    "test_ds.set_transform(val_transforms)"
   ]
  },
  {
   "cell_type": "code",
   "execution_count": 13,
   "id": "13649cd8-4cd1-4784-9d8f-9d546e032ce4",
   "metadata": {},
   "outputs": [
    {
     "name": "stdout",
     "output_type": "stream",
     "text": [
      "Dataset({\n",
      "    features: ['img', 'label'],\n",
      "    num_rows: 4500\n",
      "})\n",
      "-------------------------------------------------------------------------\n",
      "{'img': <PIL.PngImagePlugin.PngImageFile image mode=RGB size=32x32 at 0x7FF168019A00>, 'label': 8, 'pixel_values': tensor([[[-0.7647, -0.7647, -0.7647,  ..., -0.3020, -0.3020, -0.3020],\n",
      "         [-0.7647, -0.7647, -0.7647,  ..., -0.3020, -0.3020, -0.3020],\n",
      "         [-0.7647, -0.7647, -0.7647,  ..., -0.3020, -0.3020, -0.3020],\n",
      "         ...,\n",
      "         [ 0.3333,  0.3333,  0.3333,  ..., -0.4902, -0.4902, -0.4902],\n",
      "         [ 0.3333,  0.3333,  0.3333,  ..., -0.4902, -0.4902, -0.4902],\n",
      "         [ 0.3333,  0.3333,  0.3333,  ..., -0.4902, -0.4902, -0.4902]],\n",
      "\n",
      "        [[-0.7255, -0.7255, -0.7255,  ..., -0.3098, -0.3098, -0.3098],\n",
      "         [-0.7255, -0.7255, -0.7255,  ..., -0.3098, -0.3098, -0.3098],\n",
      "         [-0.7255, -0.7255, -0.7255,  ..., -0.3098, -0.3098, -0.3098],\n",
      "         ...,\n",
      "         [ 0.3569,  0.3569,  0.3569,  ..., -0.8196, -0.8196, -0.8196],\n",
      "         [ 0.3569,  0.3569,  0.3569,  ..., -0.8196, -0.8196, -0.8196],\n",
      "         [ 0.3569,  0.3569,  0.3569,  ..., -0.8196, -0.8196, -0.8196]],\n",
      "\n",
      "        [[-0.7490, -0.7490, -0.7490,  ..., -0.3569, -0.3569, -0.3569],\n",
      "         [-0.7490, -0.7490, -0.7490,  ..., -0.3569, -0.3569, -0.3569],\n",
      "         [-0.7490, -0.7490, -0.7490,  ..., -0.3569, -0.3569, -0.3569],\n",
      "         ...,\n",
      "         [ 0.3412,  0.3412,  0.3412,  ..., -0.7882, -0.7882, -0.7882],\n",
      "         [ 0.3412,  0.3412,  0.3412,  ..., -0.7882, -0.7882, -0.7882],\n",
      "         [ 0.3412,  0.3412,  0.3412,  ..., -0.7882, -0.7882, -0.7882]]])}\n",
      "-------------------------------------------------------------------------\n",
      "torch.Size([3, 224, 224])\n",
      "-------------------------------------------------------------------------\n"
     ]
    },
    {
     "data": {
      "text/plain": [
       "{'img': [<PIL.PngImagePlugin.PngImageFile image mode=RGB size=32x32 at 0x7FF159B77F40>,\n",
       "  <PIL.PngImagePlugin.PngImageFile image mode=RGB size=32x32 at 0x7FF159B77CD0>],\n",
       " 'label': [8, 6],\n",
       " 'pixel_values': [tensor([[[-0.0980, -0.0980, -0.0980,  ..., -0.1216, -0.1216, -0.1216],\n",
       "           [-0.0980, -0.0980, -0.0980,  ..., -0.1216, -0.1216, -0.1216],\n",
       "           [-0.0980, -0.0980, -0.0980,  ..., -0.1216, -0.1216, -0.1216],\n",
       "           ...,\n",
       "           [-0.2078, -0.2078, -0.2078,  ..., -0.8980, -0.8980, -0.8980],\n",
       "           [-0.2078, -0.2078, -0.2078,  ..., -0.8980, -0.8980, -0.8980],\n",
       "           [-0.2078, -0.2078, -0.2078,  ..., -0.8980, -0.8980, -0.8980]],\n",
       "  \n",
       "          [[-0.0196, -0.0196, -0.0196,  ..., -0.1216, -0.1216, -0.1216],\n",
       "           [-0.0196, -0.0196, -0.0196,  ..., -0.1216, -0.1216, -0.1216],\n",
       "           [-0.0196, -0.0196, -0.0196,  ..., -0.1216, -0.1216, -0.1216],\n",
       "           ...,\n",
       "           [-0.1451, -0.1451, -0.1451,  ..., -0.7569, -0.7569, -0.7569],\n",
       "           [-0.1451, -0.1451, -0.1451,  ..., -0.7569, -0.7569, -0.7569],\n",
       "           [-0.1451, -0.1451, -0.1451,  ..., -0.7569, -0.7569, -0.7569]],\n",
       "  \n",
       "          [[-0.0353, -0.0353, -0.0353,  ..., -0.1843, -0.1843, -0.1843],\n",
       "           [-0.0353, -0.0353, -0.0353,  ..., -0.1843, -0.1843, -0.1843],\n",
       "           [-0.0353, -0.0353, -0.0353,  ..., -0.1843, -0.1843, -0.1843],\n",
       "           ...,\n",
       "           [-0.1216, -0.1216, -0.1216,  ..., -0.7569, -0.7569, -0.7569],\n",
       "           [-0.1216, -0.1216, -0.1216,  ..., -0.7569, -0.7569, -0.7569],\n",
       "           [-0.1216, -0.1216, -0.1216,  ..., -0.7569, -0.7569, -0.7569]]]),\n",
       "  tensor([[[-0.7333, -0.7333, -0.7333,  ..., -0.3255, -0.3255, -0.3255],\n",
       "           [-0.7333, -0.7333, -0.7333,  ..., -0.3255, -0.3255, -0.3255],\n",
       "           [-0.7333, -0.7333, -0.7333,  ..., -0.3255, -0.3255, -0.3255],\n",
       "           ...,\n",
       "           [ 0.4353,  0.4353,  0.4353,  ...,  0.1294,  0.1294,  0.1294],\n",
       "           [ 0.4353,  0.4353,  0.4353,  ...,  0.1294,  0.1294,  0.1294],\n",
       "           [ 0.4353,  0.4353,  0.4353,  ...,  0.1294,  0.1294,  0.1294]],\n",
       "  \n",
       "          [[-0.7647, -0.7647, -0.7647,  ..., -0.3490, -0.3490, -0.3490],\n",
       "           [-0.7647, -0.7647, -0.7647,  ..., -0.3490, -0.3490, -0.3490],\n",
       "           [-0.7647, -0.7647, -0.7647,  ..., -0.3490, -0.3490, -0.3490],\n",
       "           ...,\n",
       "           [ 0.2706,  0.2706,  0.2706,  ...,  0.0196,  0.0196,  0.0196],\n",
       "           [ 0.2706,  0.2706,  0.2706,  ...,  0.0196,  0.0196,  0.0196],\n",
       "           [ 0.2706,  0.2706,  0.2706,  ...,  0.0196,  0.0196,  0.0196]],\n",
       "  \n",
       "          [[-0.7412, -0.7412, -0.7412,  ..., -0.5294, -0.5294, -0.5294],\n",
       "           [-0.7412, -0.7412, -0.7412,  ..., -0.5294, -0.5294, -0.5294],\n",
       "           [-0.7412, -0.7412, -0.7412,  ..., -0.5294, -0.5294, -0.5294],\n",
       "           ...,\n",
       "           [ 0.1529,  0.1529,  0.1529,  ..., -0.0667, -0.0667, -0.0667],\n",
       "           [ 0.1529,  0.1529,  0.1529,  ..., -0.0667, -0.0667, -0.0667],\n",
       "           [ 0.1529,  0.1529,  0.1529,  ..., -0.0667, -0.0667, -0.0667]]])]}"
      ]
     },
     "execution_count": 13,
     "metadata": {},
     "output_type": "execute_result"
    }
   ],
   "source": [
    "# load preprocessed images (on-the-fly)\n",
    "print(train_ds)\n",
    "print(\"-------------------------------------------------------------------------\")\n",
    "print(train_ds[0])\n",
    "print(\"-------------------------------------------------------------------------\")\n",
    "print(train_ds[0]['pixel_values'].shape)\n",
    "print(\"-------------------------------------------------------------------------\")\n",
    "train_ds[:2]"
   ]
  },
  {
   "cell_type": "markdown",
   "id": "1fc2220d-e9b9-45e6-b12d-fd09e9ed1998",
   "metadata": {},
   "source": [
    "### PyTorch DataLoader --> not used because we use Trainer API"
   ]
  },
  {
   "cell_type": "code",
   "execution_count": 14,
   "id": "0594ffca-7856-4c26-8cdc-da9eeb746d0d",
   "metadata": {},
   "outputs": [],
   "source": [
    "from torch.utils.data import DataLoader\n",
    "import torch\n",
    "\n",
    "def collate_fn(examples):\n",
    "    pixel_values = torch.stack([example[\"pixel_values\"] for example in examples])\n",
    "    labels = torch.tensor([example[\"label\"] for example in examples])\n",
    "    return {\"pixel_values\": pixel_values, \"labels\": labels}\n",
    "\n",
    "train_dataloader = DataLoader(train_ds, collate_fn=collate_fn, batch_size=4)"
   ]
  },
  {
   "cell_type": "code",
   "execution_count": 15,
   "id": "60cd3826-381a-411b-8ee8-e81e18196405",
   "metadata": {},
   "outputs": [
    {
     "name": "stdout",
     "output_type": "stream",
     "text": [
      "pixel_values torch.Size([4, 3, 224, 224])\n",
      "labels torch.Size([4])\n"
     ]
    }
   ],
   "source": [
    "batch = next(iter(train_dataloader))\n",
    "for k,v in batch.items():\n",
    "    if isinstance(v, torch.Tensor):\n",
    "        print(k, v.shape)"
   ]
  },
  {
   "cell_type": "markdown",
   "id": "5add6b83-2509-4665-85f6-5ca74f1f86ca",
   "metadata": {},
   "source": [
    "## Model"
   ]
  },
  {
   "cell_type": "code",
   "execution_count": 16,
   "id": "b815a084-387b-4523-bf6a-b73c62ce9514",
   "metadata": {},
   "outputs": [
    {
     "name": "stderr",
     "output_type": "stream",
     "text": [
      "Some weights of the model checkpoint at google/vit-base-patch16-224-in21k were not used when initializing ViTForImageClassification: ['pooler.dense.bias', 'pooler.dense.weight']\n",
      "- This IS expected if you are initializing ViTForImageClassification from the checkpoint of a model trained on another task or with another architecture (e.g. initializing a BertForSequenceClassification model from a BertForPreTraining model).\n",
      "- This IS NOT expected if you are initializing ViTForImageClassification from the checkpoint of a model that you expect to be exactly identical (initializing a BertForSequenceClassification model from a BertForSequenceClassification model).\n",
      "Some weights of ViTForImageClassification were not initialized from the model checkpoint at google/vit-base-patch16-224-in21k and are newly initialized: ['classifier.weight', 'classifier.bias']\n",
      "You should probably TRAIN this model on a down-stream task to be able to use it for predictions and inference.\n"
     ]
    }
   ],
   "source": [
    "from transformers import ViTForImageClassification \n",
    "# ViTForImageClassification, places a linear layer (nn.Linear) on top of a pre-trained ViTModel\n",
    "\n",
    "model = ViTForImageClassification.from_pretrained('google/vit-base-patch16-224-in21k', # pre-trained on ImageNet-21k\n",
    "                                                  num_labels=10,\n",
    "                                                  id2label=id2label,\n",
    "                                                  label2id=label2id)"
   ]
  },
  {
   "cell_type": "code",
   "execution_count": 17,
   "id": "89162449-ddab-466d-9694-9e104106755a",
   "metadata": {},
   "outputs": [
    {
     "name": "stdout",
     "output_type": "stream",
     "text": [
      "Linear(in_features=768, out_features=10, bias=True)\n"
     ]
    }
   ],
   "source": [
    "print(model.classifier)"
   ]
  },
  {
   "cell_type": "code",
   "execution_count": 18,
   "id": "e1f8a710-37bc-4603-a892-ef18beaadfc4",
   "metadata": {},
   "outputs": [
    {
     "name": "stdout",
     "output_type": "stream",
     "text": [
      "ViTConfig {\n",
      "  \"_name_or_path\": \"google/vit-base-patch16-224-in21k\",\n",
      "  \"architectures\": [\n",
      "    \"ViTModel\"\n",
      "  ],\n",
      "  \"attention_probs_dropout_prob\": 0.0,\n",
      "  \"hidden_act\": \"gelu\",\n",
      "  \"hidden_dropout_prob\": 0.0,\n",
      "  \"hidden_size\": 768,\n",
      "  \"id2label\": {\n",
      "    \"0\": \"airplane\",\n",
      "    \"1\": \"automobile\",\n",
      "    \"2\": \"bird\",\n",
      "    \"3\": \"cat\",\n",
      "    \"4\": \"deer\",\n",
      "    \"5\": \"dog\",\n",
      "    \"6\": \"frog\",\n",
      "    \"7\": \"horse\",\n",
      "    \"8\": \"ship\",\n",
      "    \"9\": \"truck\"\n",
      "  },\n",
      "  \"image_size\": 224,\n",
      "  \"initializer_range\": 0.02,\n",
      "  \"intermediate_size\": 3072,\n",
      "  \"label2id\": {\n",
      "    \"airplane\": 0,\n",
      "    \"automobile\": 1,\n",
      "    \"bird\": 2,\n",
      "    \"cat\": 3,\n",
      "    \"deer\": 4,\n",
      "    \"dog\": 5,\n",
      "    \"frog\": 6,\n",
      "    \"horse\": 7,\n",
      "    \"ship\": 8,\n",
      "    \"truck\": 9\n",
      "  },\n",
      "  \"layer_norm_eps\": 1e-12,\n",
      "  \"model_type\": \"vit\",\n",
      "  \"num_attention_heads\": 12,\n",
      "  \"num_channels\": 3,\n",
      "  \"num_hidden_layers\": 12,\n",
      "  \"patch_size\": 16,\n",
      "  \"qkv_bias\": true,\n",
      "  \"transformers_version\": \"4.16.2\"\n",
      "}\n",
      "\n"
     ]
    }
   ],
   "source": [
    "print(model.config)"
   ]
  },
  {
   "cell_type": "code",
   "execution_count": 19,
   "id": "a59c42ff-f348-4ad5-9cec-4123a10d5e74",
   "metadata": {},
   "outputs": [],
   "source": [
    "from transformers import TrainingArguments, Trainer\n",
    "\n",
    "metric_name = \"accuracy\"\n",
    "\n",
    "args = TrainingArguments(\n",
    "    \"test-cifar-10\",\n",
    "    save_strategy=\"epoch\",\n",
    "    evaluation_strategy=\"epoch\",\n",
    "    learning_rate=2e-5,\n",
    "    per_device_train_batch_size=10,\n",
    "    per_device_eval_batch_size=4,\n",
    "    num_train_epochs=3,\n",
    "    weight_decay=0.01,\n",
    "    load_best_model_at_end=True,\n",
    "    metric_for_best_model=metric_name,\n",
    "    logging_dir='logs',\n",
    "    remove_unused_columns=False,\n",
    ")"
   ]
  },
  {
   "cell_type": "code",
   "execution_count": 20,
   "id": "9a25e946-4138-48ef-8056-0575230f9f35",
   "metadata": {},
   "outputs": [],
   "source": [
    "from datasets import load_metric\n",
    "import numpy as np\n",
    "\n",
    "metric = load_metric(\"accuracy\")\n",
    "\n",
    "def compute_metrics(eval_pred):\n",
    "    predictions, labels = eval_pred\n",
    "    predictions = np.argmax(predictions, axis=1)\n",
    "    return metric.compute(predictions=predictions, references=labels)"
   ]
  },
  {
   "cell_type": "code",
   "execution_count": 21,
   "id": "6c544a8a-cde4-41c9-ab1c-d1984e878f37",
   "metadata": {},
   "outputs": [],
   "source": [
    "import torch\n",
    "\n",
    "trainer = Trainer(\n",
    "    model,\n",
    "    args,\n",
    "    train_dataset=train_ds,\n",
    "    eval_dataset=val_ds,\n",
    "    data_collator=collate_fn,\n",
    "    compute_metrics=compute_metrics,\n",
    "    tokenizer=feature_extractor,\n",
    ")"
   ]
  },
  {
   "cell_type": "code",
   "execution_count": 22,
   "id": "c7ab9112-705f-45c8-9b6e-26a88d896f56",
   "metadata": {},
   "outputs": [
    {
     "name": "stderr",
     "output_type": "stream",
     "text": [
      "/home/cgarcia37/anaconda3/lib/python3.8/site-packages/transformers/optimization.py:306: FutureWarning: This implementation of AdamW is deprecated and will be removed in a future version. Use thePyTorch implementation torch.optim.AdamW instead, or set `no_deprecation_warning=True` to disable this warning\n",
      "  warnings.warn(\n",
      "/home/cgarcia37/anaconda3/lib/python3.8/site-packages/torch/nn/parallel/data_parallel.py:30: UserWarning: \n",
      "    There is an imbalance between your GPUs. You may want to exclude GPU 1 which\n",
      "    has less than 75% of the memory or cores of GPU 0. You can do so by setting\n",
      "    the device_ids argument to DataParallel, or by setting the CUDA_VISIBLE_DEVICES\n",
      "    environment variable.\n",
      "  warnings.warn(imbalance_warn.format(device_ids[min_pos], device_ids[max_pos]))\n",
      "***** Running training *****\n",
      "  Num examples = 4500\n",
      "  Num Epochs = 3\n",
      "  Instantaneous batch size per device = 10\n",
      "  Total train batch size (w. parallel, distributed & accumulation) = 40\n",
      "  Gradient Accumulation steps = 1\n",
      "  Total optimization steps = 339\n",
      "/home/cgarcia37/anaconda3/lib/python3.8/site-packages/torch/nn/parallel/_functions.py:68: UserWarning: Was asked to gather along dimension 0, but all input tensors were scalars; will instead unsqueeze and return a vector.\n",
      "  warnings.warn('Was asked to gather along dimension 0, but all '\n"
     ]
    },
    {
     "data": {
      "text/html": [
       "\n",
       "    <div>\n",
       "      \n",
       "      <progress value='339' max='339' style='width:300px; height:20px; vertical-align: middle;'></progress>\n",
       "      [339/339 01:54, Epoch 3/3]\n",
       "    </div>\n",
       "    <table border=\"1\" class=\"dataframe\">\n",
       "  <thead>\n",
       " <tr style=\"text-align: left;\">\n",
       "      <th>Epoch</th>\n",
       "      <th>Training Loss</th>\n",
       "      <th>Validation Loss</th>\n",
       "      <th>Accuracy</th>\n",
       "    </tr>\n",
       "  </thead>\n",
       "  <tbody>\n",
       "    <tr>\n",
       "      <td>1</td>\n",
       "      <td>No log</td>\n",
       "      <td>1.481833</td>\n",
       "      <td>0.926000</td>\n",
       "    </tr>\n",
       "    <tr>\n",
       "      <td>2</td>\n",
       "      <td>No log</td>\n",
       "      <td>1.055706</td>\n",
       "      <td>0.944000</td>\n",
       "    </tr>\n",
       "    <tr>\n",
       "      <td>3</td>\n",
       "      <td>No log</td>\n",
       "      <td>0.949187</td>\n",
       "      <td>0.964000</td>\n",
       "    </tr>\n",
       "  </tbody>\n",
       "</table><p>"
      ],
      "text/plain": [
       "<IPython.core.display.HTML object>"
      ]
     },
     "metadata": {},
     "output_type": "display_data"
    },
    {
     "name": "stderr",
     "output_type": "stream",
     "text": [
      "***** Running Evaluation *****\n",
      "  Num examples = 500\n",
      "  Batch size = 16\n",
      "Saving model checkpoint to test-cifar-10/checkpoint-113\n",
      "Configuration saved in test-cifar-10/checkpoint-113/config.json\n",
      "Model weights saved in test-cifar-10/checkpoint-113/pytorch_model.bin\n",
      "Configuration saved in test-cifar-10/checkpoint-113/preprocessor_config.json\n",
      "/home/cgarcia37/anaconda3/lib/python3.8/site-packages/torch/nn/parallel/_functions.py:68: UserWarning: Was asked to gather along dimension 0, but all input tensors were scalars; will instead unsqueeze and return a vector.\n",
      "  warnings.warn('Was asked to gather along dimension 0, but all '\n",
      "/home/cgarcia37/anaconda3/lib/python3.8/site-packages/torch/nn/parallel/data_parallel.py:30: UserWarning: \n",
      "    There is an imbalance between your GPUs. You may want to exclude GPU 1 which\n",
      "    has less than 75% of the memory or cores of GPU 0. You can do so by setting\n",
      "    the device_ids argument to DataParallel, or by setting the CUDA_VISIBLE_DEVICES\n",
      "    environment variable.\n",
      "  warnings.warn(imbalance_warn.format(device_ids[min_pos], device_ids[max_pos]))\n",
      "***** Running Evaluation *****\n",
      "  Num examples = 500\n",
      "  Batch size = 16\n",
      "Saving model checkpoint to test-cifar-10/checkpoint-226\n",
      "Configuration saved in test-cifar-10/checkpoint-226/config.json\n",
      "Model weights saved in test-cifar-10/checkpoint-226/pytorch_model.bin\n",
      "Configuration saved in test-cifar-10/checkpoint-226/preprocessor_config.json\n",
      "/home/cgarcia37/anaconda3/lib/python3.8/site-packages/torch/nn/parallel/_functions.py:68: UserWarning: Was asked to gather along dimension 0, but all input tensors were scalars; will instead unsqueeze and return a vector.\n",
      "  warnings.warn('Was asked to gather along dimension 0, but all '\n",
      "/home/cgarcia37/anaconda3/lib/python3.8/site-packages/torch/nn/parallel/data_parallel.py:30: UserWarning: \n",
      "    There is an imbalance between your GPUs. You may want to exclude GPU 1 which\n",
      "    has less than 75% of the memory or cores of GPU 0. You can do so by setting\n",
      "    the device_ids argument to DataParallel, or by setting the CUDA_VISIBLE_DEVICES\n",
      "    environment variable.\n",
      "  warnings.warn(imbalance_warn.format(device_ids[min_pos], device_ids[max_pos]))\n",
      "***** Running Evaluation *****\n",
      "  Num examples = 500\n",
      "  Batch size = 16\n",
      "Saving model checkpoint to test-cifar-10/checkpoint-339\n",
      "Configuration saved in test-cifar-10/checkpoint-339/config.json\n",
      "Model weights saved in test-cifar-10/checkpoint-339/pytorch_model.bin\n",
      "Configuration saved in test-cifar-10/checkpoint-339/preprocessor_config.json\n",
      "\n",
      "\n",
      "Training completed. Do not forget to share your model on huggingface.co/models =)\n",
      "\n",
      "\n",
      "Loading best model from test-cifar-10/checkpoint-339 (score: 0.964).\n"
     ]
    },
    {
     "data": {
      "text/plain": [
       "TrainOutput(global_step=339, training_loss=1.4711111963322732, metrics={'train_runtime': 122.5558, 'train_samples_per_second': 110.154, 'train_steps_per_second': 2.766, 'total_flos': 1.046216869705728e+18, 'train_loss': 1.4711111963322732, 'epoch': 3.0})"
      ]
     },
     "execution_count": 22,
     "metadata": {},
     "output_type": "execute_result"
    }
   ],
   "source": [
    "trainer.train()"
   ]
  },
  {
   "cell_type": "markdown",
   "id": "14067845-48b2-44fd-8e47-703eaf7c1937",
   "metadata": {},
   "source": [
    "## Evaluation"
   ]
  },
  {
   "cell_type": "code",
   "execution_count": 23,
   "id": "f024f631-d029-4c73-afb5-232856f36ce4",
   "metadata": {},
   "outputs": [
    {
     "name": "stderr",
     "output_type": "stream",
     "text": [
      "/home/cgarcia37/anaconda3/lib/python3.8/site-packages/torch/nn/parallel/data_parallel.py:30: UserWarning: \n",
      "    There is an imbalance between your GPUs. You may want to exclude GPU 1 which\n",
      "    has less than 75% of the memory or cores of GPU 0. You can do so by setting\n",
      "    the device_ids argument to DataParallel, or by setting the CUDA_VISIBLE_DEVICES\n",
      "    environment variable.\n",
      "  warnings.warn(imbalance_warn.format(device_ids[min_pos], device_ids[max_pos]))\n",
      "***** Running Prediction *****\n",
      "  Num examples = 2000\n",
      "  Batch size = 16\n",
      "/home/cgarcia37/anaconda3/lib/python3.8/site-packages/torch/nn/parallel/_functions.py:68: UserWarning: Was asked to gather along dimension 0, but all input tensors were scalars; will instead unsqueeze and return a vector.\n",
      "  warnings.warn('Was asked to gather along dimension 0, but all '\n"
     ]
    },
    {
     "data": {
      "text/html": [
       "\n",
       "    <div>\n",
       "      \n",
       "      <progress value='125' max='125' style='width:300px; height:20px; vertical-align: middle;'></progress>\n",
       "      [125/125 00:12]\n",
       "    </div>\n",
       "    "
      ],
      "text/plain": [
       "<IPython.core.display.HTML object>"
      ]
     },
     "metadata": {},
     "output_type": "display_data"
    }
   ],
   "source": [
    "outputs = trainer.predict(test_ds)"
   ]
  },
  {
   "cell_type": "code",
   "execution_count": 24,
   "id": "5e2822c0-ffda-4978-b700-6a45adbeed61",
   "metadata": {},
   "outputs": [
    {
     "name": "stdout",
     "output_type": "stream",
     "text": [
      "{'test_loss': 0.9549156427383423, 'test_accuracy': 0.954, 'test_runtime': 12.5051, 'test_samples_per_second': 159.935, 'test_steps_per_second': 9.996}\n"
     ]
    }
   ],
   "source": [
    "print(outputs.metrics)"
   ]
  },
  {
   "cell_type": "code",
   "execution_count": 25,
   "id": "3d7cf46c-a56b-4110-9cc8-43ac58c5575c",
   "metadata": {},
   "outputs": [
    {
     "data": {
      "text/plain": [
       "<sklearn.metrics._plot.confusion_matrix.ConfusionMatrixDisplay at 0x7ff0e9268df0>"
      ]
     },
     "execution_count": 25,
     "metadata": {},
     "output_type": "execute_result"
    },
    {
     "data": {
      "image/png": "[encoded data removed]",
      "text/plain": [
       "<Figure size 432x288 with 2 Axes>"
      ]
     },
     "metadata": {
      "needs_background": "light"
     },
     "output_type": "display_data"
    }
   ],
   "source": [
    "from sklearn.metrics import confusion_matrix, ConfusionMatrixDisplay\n",
    "\n",
    "y_true = outputs.label_ids\n",
    "y_pred = outputs.predictions.argmax(1)\n",
    "\n",
    "labels = train_ds.features['label'].names\n",
    "cm = confusion_matrix(y_true, y_pred)\n",
    "disp = ConfusionMatrixDisplay(confusion_matrix=cm, display_labels=labels)\n",
    "disp.plot(xticks_rotation=45)"
   ]
  },
  {
   "cell_type": "code",
   "execution_count": null,
   "id": "bf4e07da-cce9-4ac6-b5a3-e1b4b442d14e",
   "metadata": {},
   "outputs": [],
   "source": []
  }
 ],
 "metadata": {
  "kernelspec": {
   "display_name": "Python 3",
   "language": "python",
   "name": "python3"
  },
  "language_info": {
   "codemirror_mode": {
    "name": "ipython",
    "version": 3
   },
   "file_extension": ".py",
   "mimetype": "text/x-python",
   "name": "python",
   "nbconvert_exporter": "python",
   "pygments_lexer": "ipython3",
   "version": "3.8.8"
  }
 },
 "nbformat": 4,
 "nbformat_minor": 5
}
